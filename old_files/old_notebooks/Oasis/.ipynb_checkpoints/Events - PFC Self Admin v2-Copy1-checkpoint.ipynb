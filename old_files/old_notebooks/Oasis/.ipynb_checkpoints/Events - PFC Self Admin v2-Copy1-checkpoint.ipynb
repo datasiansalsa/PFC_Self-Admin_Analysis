{
 "cells": [
  {
   "cell_type": "code",
   "execution_count": 110,
   "metadata": {},
   "outputs": [],
   "source": [
    "import numpy as np\n",
    "import seaborn as sns\n",
    "import matplotlib as plt\n",
    "import matplotlib.pyplot as plt\n",
    "from pylab import *\n",
    "import h5py\n",
    "import scipy as sc\n",
    "from scipy import stats\n",
    "import pandas as pd\n",
    "%matplotlib inline\n",
    "import os\n",
    "import csv"
   ]
  },
  {
   "cell_type": "code",
   "execution_count": 111,
   "metadata": {},
   "outputs": [
    {
     "name": "stdout",
     "output_type": "stream",
     "text": [
      "/Users/jamesotis/Dropbox/2P Imaging Projects/Beth/PFC Self Admin Analysis\n"
     ]
    }
   ],
   "source": [
    "##EDIT THIS SECTION. DIRECTORY INFORMATION###\n",
    "\n",
    "## open multiple files called 'extractedsignals.npy' for each day and combine into single array.\n",
    "## the best way to do this is to point the basedir to a folder. Within that folder there are multiple folders (named to identify\n",
    "## session,mouse,FOV,etc info), which each contain EXACTLY 1 file called EXACTLY 'extractedsignals.npy'\n",
    "\n",
    "basedir = r'/Users/jamesotis/Dropbox/2P Imaging Projects/Beth/PFC Self Admin Analysis'\n",
    "days = ['EarlyAcq','MidAcq','LateAcq','EarlyExt','LateExt','CueRein', 'DrugRein', 'TMTRein']\n",
    "\n",
    "signals_filename_extension = 'extractedsignals_raw'\n",
    "\n",
    "print(basedir)"
   ]
  },
  {
   "cell_type": "code",
   "execution_count": 131,
   "metadata": {},
   "outputs": [],
   "source": [
    "## EDIT THIS SECTION. ANALYTICS ###\n",
    "\n",
    "## Do you want to use F/Favg or z-scored data?\n",
    "use_raw_data=['no']  # if 'no' then data will be z-scored\n",
    "raw_threshold=1.25    # define raw threshold value for identifying events (only used if use_raw_data=['yes'])\n",
    "z_threshold=3.0  # define z threshold value for identifying events\n",
    "\n",
    "framerate=7.5 #framerate in Hz AFTER averaging in SIMA\n",
    "\n",
    "### Filter the event by duration OR area under the curve (values of 0 = unfiltered)\n",
    "### CAN NOT FILTER BOTH\n",
    "timethreshold=0.5 #threshold for duration of event (in seconds) \n",
    "areathreshold=0  #threshold for area under the curve of event\n",
    "\n",
    "#do you want to use the low-pass filter to adjust the z-score values?\n",
    "low_pass_filter_on=['no'] #either 'yes' or 'no'\n",
    "lowpass_filter=1.1 # Change this to modify the low-pass correction. (values between 1.05 and 1.1 seem to work well)\n",
    "\n",
    "#do you want to PLOT all individual traces? (if you have a lot of cells, this can be pretty time consuming)\n",
    "plot_traces=['no'] ##plot unfiltered traces?\n",
    "plot_traces_filtered=['no'] ##plot filtered traces?\n",
    "\n",
    "#do you want to EXPORT individual traces? plot_traces must equal 'yes' in order to export traces.\n",
    "export_traces=['no']\n",
    "\n",
    "# do you want to export data files?\n",
    "export_files=['no']\n",
    "\n",
    "## if you want to limit your analysis to a certain range of frames, change start_frame and end_frame below\n",
    "start_min = 0\n",
    "end_min = 1\n",
    "\n",
    "\n",
    "start_frame=start_min*450\n",
    "end_frame=end_min*450 ###~450 frames/minute for 7.5Hz recording \n",
    "\n",
    "binsize=1 #rolling average smooth; greater values increase the smoothing\n",
    "\n",
    "## Do you want to filter data by event rate to eliminate cells that have few events or drift?\n",
    "event_rate_filter_on=['yes']\n",
    "min_event_count=2 #minimum event count to include\n",
    "max_difference=25 #maximum difference allowed between event rate in first vs. last 1/3 of frames\n",
    "\n"
   ]
  },
  {
   "cell_type": "code",
   "execution_count": 132,
   "metadata": {},
   "outputs": [],
   "source": [
    "### FUNCTIONS FOR DATA EXTRACTION ###\n",
    "\n",
    "def get_signals(indir):\n",
    "    tempfiles = next(os.walk(indir))[2]\n",
    "    npyfiles = [f for f in tempfiles if os.path.splitext(f)[1]=='.npy' and signals_filename_extension in f]\n",
    "    if len(npyfiles) == 1:\n",
    "        signals = np.squeeze(np.load(os.path.join(indir, npyfiles[0])))\n",
    "    elif len(npyfiles) == 2:\n",
    "        npyfile1 = [f for f in tempfiles if os.path.splitext(f)[1]=='.npy' \\\n",
    "                    and signals_filename_extension in f and 'part1' in f]\n",
    "        npyfile2 = [f for f in tempfiles if os.path.splitext(f)[1]=='.npy' \\\n",
    "                    and signals_filename_extension in f and 'part2' in f]\n",
    "        signals1 = np.squeeze(np.load(os.path.join(indir, npyfile1[0])))\n",
    "        signals2 = np.squeeze(np.load(os.path.join(indir, npyfile2[0])))\n",
    "        signals = np.hstack((signals1, signals2))\n",
    "    elif len(npyfiles) == 3:\n",
    "        npyfile1 = [f for f in tempfiles if os.path.splitext(f)[1]=='.npy' \\\n",
    "                    and signals_filename_extension in f and 'part1' in f]\n",
    "        npyfile2 = [f for f in tempfiles if os.path.splitext(f)[1]=='.npy' \\\n",
    "                    and signals_filename_extension in f and 'part2' in f]\n",
    "        npyfile3 = [f for f in tempfiles if os.path.splitext(f)[1]=='.npy' \\\n",
    "                    and signals_filename_extension in f and 'part3' in f]\n",
    "        signals1 = np.squeeze(np.load(os.path.join(indir, npyfile1[0])))\n",
    "        signals2 = np.squeeze(np.load(os.path.join(indir, npyfile2[0])))\n",
    "        signals3 = np.squeeze(np.load(os.path.join(indir, npyfile3[0])))\n",
    "        signals = np.hstack((signals1, signals2, signals3))\n",
    "    elif len(npyfiles) == 4:\n",
    "        npyfile1 = [f for f in tempfiles if os.path.splitext(f)[1]=='.npy' \\\n",
    "                    and signals_filename_extension in f and 'part1' in f]\n",
    "        npyfile2 = [f for f in tempfiles if os.path.splitext(f)[1]=='.npy' \\\n",
    "                    and signals_filename_extension in f and 'part2' in f]\n",
    "        npyfile3 = [f for f in tempfiles if os.path.splitext(f)[1]=='.npy' \\\n",
    "                    and signals_filename_extension in f and 'part3' in f]\n",
    "        npyfile4 = [f for f in tempfiles if os.path.splitext(f)[1]=='.npy' \\\n",
    "                    and signals_filename_extension in f and 'part4' in f]\n",
    "        signals1 = np.squeeze(np.load(os.path.join(indir, npyfile1[0])))\n",
    "        signals2 = np.squeeze(np.load(os.path.join(indir, npyfile2[0])))\n",
    "        signals3 = np.squeeze(np.load(os.path.join(indir, npyfile3[0])))\n",
    "        signals4 = np.squeeze(np.load(os.path.join(indir, npyfile3[0])))\n",
    "        signals = np.hstack((signals1, signals2, signals3, signals4))\n",
    "    else:\n",
    "        warnings.warn('\\nDATA FROM: \\n%s \\nNOT ANALYZED DUE TO NPY FILE DISCREPENCY\\n'%indir)\n",
    "    \n",
    "    numneurons = np.shape(signals)[0]\n",
    "    numframes = np.shape(signals)[1]\n",
    "        \n",
    "    return (numneurons, numframes, signals.astype(np.float64))\n",
    "\n",
    "def moving_average(x, w):\n",
    "    return np.convolve(x, np.ones(w), 'valid') / w\n",
    "        "
   ]
  },
  {
   "cell_type": "code",
   "execution_count": 133,
   "metadata": {},
   "outputs": [],
   "source": [
    "### LOAD EXTRACTED SIGNALS AND SAVE INTO DICTIONARY ###\n",
    "signal_dict = {}\n",
    "for day in days:\n",
    "    signal_dict[day]= {}\n",
    "    animals = next(os.walk(os.path.join(basedir, day)))[1]\n",
    "    for animal in animals:\n",
    "        signal_dict[day][animal] = {}\n",
    "        fovs = next(os.walk(os.path.join(basedir, day, animal)))[1]\n",
    "        for fov in fovs:\n",
    "            signal_dict[day][animal][fov] = {}\n",
    "            numneurons, numframes, raw_signals = get_signals(os.path.join(basedir, day, animal, fov))\n",
    "            signal_dict[day][animal][fov] = numneurons, numframes, raw_signals\n",
    "            "
   ]
  },
  {
   "cell_type": "code",
   "execution_count": 134,
   "metadata": {},
   "outputs": [
    {
     "name": "stdout",
     "output_type": "stream",
     "text": [
      "analyze z-scored data\n"
     ]
    }
   ],
   "source": [
    "### Z SCORE DATA AND OVERWRITE ORIGINAL, RUN EVEN IF NOT Z-SCORING ###\n",
    "\n",
    "if use_raw_data[0]=='no':\n",
    "    for day in days:\n",
    "        animals = next(os.walk(os.path.join(basedir, day)))[1]\n",
    "        for animal in animals:\n",
    "            fovs = next(os.walk(os.path.join(basedir, day, animal)))[1]\n",
    "            for fov in fovs:\n",
    "                numneurons, numframes, raw_signals = signal_dict[day][animal][fov]\n",
    "\n",
    "                zscore_signals=stats.zscore(raw_signals[:,start_frame:end_frame], axis=1)\n",
    "                \n",
    "                signal_dict[day][animal][fov] = numneurons, numframes, zscore_signals\n",
    "    \n",
    "    y_axis='z-scored intensity'\n",
    "    threshold=z_threshold\n",
    "    print('analyze z-scored data')\n",
    "                \n",
    "elif use_raw_data[0]=='yes':\n",
    "    numneurons, numframes, raw_signals = signal_dict[day][animal][fov]\n",
    "    raw_signals=raw_signals[:,start_frame:end_frame]\n",
    "    signal_dict[day][animal][fov] = numneurons, numframes, raw_signals\n",
    "    y_axis='F/F0'\n",
    "    threshold=raw_threshold\n",
    "    print('analyze raw data')\n",
    "    \n"
   ]
  },
  {
   "cell_type": "code",
   "execution_count": 135,
   "metadata": {
    "scrolled": true
   },
   "outputs": [
    {
     "data": {
      "image/png": "[encoded data removed]",
      "text/plain": [
       "<Figure size 432x288 with 1 Axes>"
      ]
     },
     "metadata": {
      "needs_background": "light"
     },
     "output_type": "display_data"
    }
   ],
   "source": [
    "#plot an example cell\n",
    "roi_of_interest = 72\n",
    "\n",
    "fig,ax=plt.subplots(1)\n",
    "ax.get_fc()\n",
    "sns.lineplot(data=signal_dict[day][animal][fov][2][roi_of_interest,:])\n",
    "plt.xlabel('Frames', fontsize='16')\n",
    "plt.ylabel(y_axis, fontsize='16')\n",
    "plt.title('ROI number '+str(roi_of_interest), fontsize='16')\n",
    "plt.show()\n",
    "\n"
   ]
  },
  {
   "cell_type": "code",
   "execution_count": 136,
   "metadata": {},
   "outputs": [
    {
     "name": "stdout",
     "output_type": "stream",
     "text": [
      "EarlyAcq ER-L1 FOV1\n",
      "EarlyAcq LCDD-PGa5 FOV1\n",
      "EarlyAcq LCDD-PGa-T3 FOV1\n",
      "EarlyAcq LCDD-PGa-T4 FOV1\n",
      "EarlyAcq LCDD-PGa4 FOV1\n",
      "EarlyAcq LCDD-PGa3 FOV1\n",
      "EarlyAcq PGa-T1 FOV1\n",
      "EarlyAcq LCDD-PGa-T5 FOV1\n",
      "EarlyAcq LCDD-PGa-T2 FOV1\n",
      "EarlyAcq CTL1 FOV1\n",
      "EarlyAcq ER-L2 FOV1\n",
      "EarlyAcq PGa-T3 FOV1\n",
      "EarlyAcq LCDD-PGa6 FOV1\n",
      "EarlyAcq LCDD-PGa1 FOV1\n",
      "EarlyAcq LCDD-PGa-T1 FOV1\n",
      "EarlyAcq PGa-T2 FOV1\n",
      "EarlyAcq IG-19 FOV2\n",
      "MidAcq ER-L1 FOV1\n",
      "MidAcq LCDD-PGa5 FOV1\n",
      "MidAcq LCDD-PGa-T3 FOV1\n",
      "MidAcq LCDD-PGa-T4 FOV1\n",
      "MidAcq LCDD-PGa4 FOV1\n",
      "MidAcq LCDD-PGa3 FOV1\n",
      "MidAcq PGa-T1 FOV1\n",
      "MidAcq LCDD-PGa-T5 FOV1\n",
      "MidAcq LCDD-PGa-T2 FOV1\n",
      "MidAcq CTL1 FOV1\n",
      "MidAcq ER-L2 FOV2\n",
      "MidAcq PGa-T3 FOV1\n",
      "MidAcq LCDD-PGa6 FOV1\n",
      "MidAcq LCDD-PGa1 FOV1\n",
      "MidAcq LCDD-PGa-T1 FOV1\n",
      "MidAcq PGa-T2 FOV1\n",
      "MidAcq IG-19 FOV2\n",
      "LateAcq ER-L1 FOV2\n",
      "LateAcq LCDD-PGa5 FOV1\n",
      "LateAcq LCDD-PGa-T3 FOV1\n",
      "LateAcq LCDD-PGa-T4 FOV1\n",
      "LateAcq LCDD-PGa4 FOV1\n",
      "LateAcq LCDD-PGa3 FOV1\n",
      "LateAcq PGa-T1 FOV1\n",
      "LateAcq LCDD-PGa-T5 FOV1\n",
      "LateAcq LCDD-PGa-T2 FOV1\n",
      "LateAcq CTL1 FOV1\n",
      "LateAcq ER-L2 FOV1\n",
      "LateAcq PGa-T3 FOV1\n",
      "LateAcq LCDD-PGa6 FOV1\n",
      "LateAcq LCDD-PGa1 FOV1\n",
      "LateAcq LCDD-PGa-T1 FOV1\n",
      "LateAcq PGa-T2 FOV1\n",
      "LateAcq IG-19 FOV2\n",
      "EarlyExt ER-L1 FOV1\n",
      "EarlyExt LCDD-PGa5 FOV1\n",
      "EarlyExt LCDD-PGa-T3 FOV1\n",
      "EarlyExt LCDD-PGa-T4 FOV1\n",
      "EarlyExt LCDD-PGa4 FOV1\n",
      "EarlyExt LCDD-PGa3 FOV1\n",
      "EarlyExt PGa-T1 FOV1\n",
      "EarlyExt LCDD-PGa-T5 FOV1\n",
      "EarlyExt LCDD-PGa-T2 FOV1\n",
      "EarlyExt CTL1 FOV1\n",
      "EarlyExt ER-L2 FOV1\n",
      "EarlyExt PGa-T3 FOV1\n",
      "EarlyExt LCDD-PGa6 FOV1\n",
      "EarlyExt LCDD-PGa1 FOV1\n",
      "EarlyExt LCDD-PGa-T1 FOV1\n",
      "EarlyExt PGa-T2 FOV1\n",
      "EarlyExt IG-19 FOV2\n",
      "LateExt ER-L1 FOV1\n",
      "LateExt LCDD-PGa5 FOV1\n",
      "LateExt LCDD-PGa-T3 FOV1\n",
      "LateExt LCDD-PGa-T4 FOV1\n",
      "LateExt LCDD-PGa4 FOV1\n",
      "LateExt LCDD-PGa3 FOV1\n",
      "LateExt PGa-T1 FOV1\n",
      "LateExt LCDD-PGa-T5 FOV1\n",
      "LateExt LCDD-PGa-T2 FOV1\n",
      "LateExt CTL1 FOV1\n",
      "LateExt ER-L2 FOV1\n",
      "LateExt PGa-T3 FOV1\n",
      "LateExt LCDD-PGa6 FOV1\n",
      "LateExt LCDD-PGa1 FOV1\n",
      "LateExt LCDD-PGa-T1 FOV1\n",
      "LateExt PGa-T2 FOV1\n",
      "LateExt IG-19 FOV1\n",
      "CueRein ER-L1 FOV1_tracked\n",
      "CueRein LCDD-PGa5 FOV1_tracked\n",
      "CueRein LCDD-PGa-T3 FOV1_tracked\n",
      "CueRein LCDD-PGa-T4 FOV1_tracked\n",
      "CueRein LCDD-PGa4 FOV1_tracked\n",
      "CueRein LCDD-PGa3 FOV1_tracked\n",
      "CueRein PGa-T1 FOV1_tracked\n",
      "CueRein LCDD-PGa-T5 FOV1_tracked\n",
      "CueRein LCDD-PGa-T2 FOV1_tracked\n",
      "CueRein CTL1 FOV1_tracked\n",
      "CueRein ER-L2 FOV1_tracked\n",
      "CueRein PGa-T3 FOV1_tracked\n",
      "CueRein LCDD-PGa6 FOV1_tracked\n",
      "CueRein LCDD-PGa1 FOV1_tracked\n",
      "CueRein LCDD-PGa-T1 FOV1_tracked\n",
      "CueRein PGa-T2 FOV1_tracked\n",
      "CueRein IG-19 FOV1_tracked\n",
      "DrugRein ER-L1 FOV1_tracked\n",
      "DrugRein LCDD-PGa-T3 FOV1_tracked\n",
      "DrugRein LCDD-PGa-T4 FOV1_tracked\n",
      "DrugRein LCDD-PGa4 FOV1_tracked\n",
      "DrugRein LCDD-PGa3 FOV1_tracked\n",
      "DrugRein PGa-T1 FOV1_tracked\n",
      "DrugRein LCDD-PGa-T5 FOV1_tracked\n",
      "DrugRein LCDD-PGa-T2 FOV1_tracked\n",
      "DrugRein CTL1 FOV1_tracked\n",
      "DrugRein ER-L2 FOV1_tracked\n",
      "DrugRein PGa-T3 FOV1_tracked\n",
      "DrugRein LCDD-PGa6 FOV1_tracked\n",
      "DrugRein LCDD-PGa1 FOV1_tracked\n",
      "DrugRein LCDD-PGa-T1 FOV1_tracked\n",
      "DrugRein PGa-T2 FOV1_tracked\n",
      "DrugRein IG-19 FOV1_tracked\n",
      "TMTRein ER-L1 FOV1_tracked\n",
      "TMTRein LCDD-PGa-T3 FOV1_tracked\n",
      "TMTRein LCDD-PGa-T4 FOV1_tracked\n",
      "TMTRein LCDD-PGa4 FOV1_tracked\n",
      "TMTRein LCDD-PGa3 FOV1_tracked\n",
      "TMTRein PGa-T1 FOV1_tracked\n",
      "TMTRein LCDD-PGa-T5 FOV1_tracked\n",
      "TMTRein LCDD-PGa-T2 FOV1_tracked\n",
      "TMTRein CTL1 FOV1_tracked\n",
      "TMTRein ER-L2 FOV1_tracked\n",
      "TMTRein PGa-T3 FOV1_tracked\n",
      "TMTRein LCDD-PGa6 FOV1_tracked\n",
      "TMTRein LCDD-PGa1 FOV1_tracked\n",
      "TMTRein LCDD-PGa-T1 FOV1_tracked\n",
      "TMTRein PGa-T2 FOV1_tracked\n",
      "TMTRein IG-19 FOV1_tracked\n"
     ]
    },
    {
     "data": {
      "image/png": "[encoded data removed]",
      "text/plain": [
       "<Figure size 432x288 with 1 Axes>"
      ]
     },
     "metadata": {
      "needs_background": "light"
     },
     "output_type": "display_data"
    },
    {
     "data": {
      "image/png": "[encoded data removed]",
      "text/plain": [
       "<Figure size 432x288 with 1 Axes>"
      ]
     },
     "metadata": {
      "needs_background": "light"
     },
     "output_type": "display_data"
    }
   ],
   "source": [
    "#### find 'up' and 'down' events.  up corresponds to rising edge\n",
    "#### this section may take a few minutes\n",
    "combined = {}\n",
    "for day in days:\n",
    "    combined[day] = {}\n",
    "    animals = next(os.walk(os.path.join(basedir, day)))[1]\n",
    "    for animal in animals:\n",
    "        combined[day][animal] = {}\n",
    "        fovs = next(os.walk(os.path.join(basedir, day, animal)))[1]\n",
    "        for fov in fovs:\n",
    "            print(day, animal,fov)\n",
    "            up=np.empty(signal_dict[day][animal][fov][2].shape)\n",
    "            up[:]=np.NAN\n",
    "            down=np.empty(signal_dict[day][animal][fov][2].shape)\n",
    "            down[:]=np.NAN\n",
    "            numneurons = signal_dict[day][animal][fov][0]\n",
    "            numframes =  signal_dict[day][animal][fov][2].shape[1]\n",
    "            for a in range(numneurons):\n",
    "                for i in range(1, numframes-1):\n",
    "                    up[a,i] = signal_dict[day][animal][fov][2][a,i]>threshold and \\\n",
    "                                signal_dict[day][animal][fov][2][a,i-1]<threshold and \\\n",
    "                                signal_dict[day][animal][fov][2][a,i+1]>threshold\n",
    "                    down[a,i] = signal_dict[day][animal][fov][2][a,i]>threshold and \\\n",
    "                                signal_dict[day][animal][fov][2][a,i-1]>threshold and \\\n",
    "                                signal_dict[day][animal][fov][2][a,i+1]<threshold\n",
    "                    down[a,i] = down[a,i] * -1\n",
    "                    \n",
    "            combined[day][animal][fov] = up + down\n",
    "            \n",
    "            ### Remove event if trace starts or ends in 'up' state\n",
    "            for a in range(numneurons):\n",
    "                firstup=np.nanargmax(combined[day][animal][fov][a,:])\n",
    "                firstdown=np.nanargmin(combined[day][animal][fov][a,:])\n",
    "                if firstdown<firstup:\n",
    "                    combined[day][animal][fov][a,firstdown]=0     \n",
    "            flipped=np.fliplr(combined[day][animal][fov])\n",
    "            for a in range(0,numneurons):\n",
    "                lastup=np.nanargmax(flipped[a,:])\n",
    "                lastdown=np.nanargmin(flipped[a,:])\n",
    "                if lastup<lastdown:\n",
    "                    flipped[a,lastup]=0\n",
    "            combined[day][animal][fov]=np.fliplr(flipped)\n",
    "\n",
    "### PLOT EXAMPLE NEURON WITH UP, DOWN, AND COMBINED EVENTS ###\n",
    "plt.plot(combined[day][animal][fov][roi_of_interest,:], color = 'k')\n",
    "plt.show()\n",
    "plt.plot(signal_dict[day][animal][fov][2][roi_of_interest,:])\n",
    "plt.show() \n"
   ]
  },
  {
   "cell_type": "code",
   "execution_count": null,
   "metadata": {},
   "outputs": [],
   "source": []
  },
  {
   "cell_type": "code",
   "execution_count": 137,
   "metadata": {},
   "outputs": [
    {
     "name": "stdout",
     "output_type": "stream",
     "text": [
      "EarlyAcq ER-L1 FOV1\n",
      "EarlyAcq LCDD-PGa5 FOV1\n"
     ]
    },
    {
     "name": "stderr",
     "output_type": "stream",
     "text": [
      "/Users/jamesotis/opt/anaconda3/lib/python3.7/site-packages/ipykernel_launcher.py:79: RuntimeWarning: Mean of empty slice\n",
      "/Users/jamesotis/opt/anaconda3/lib/python3.7/site-packages/ipykernel_launcher.py:80: RuntimeWarning: Mean of empty slice\n",
      "/Users/jamesotis/opt/anaconda3/lib/python3.7/site-packages/ipykernel_launcher.py:81: RuntimeWarning: Mean of empty slice\n"
     ]
    },
    {
     "name": "stdout",
     "output_type": "stream",
     "text": [
      "EarlyAcq LCDD-PGa-T3 FOV1\n",
      "EarlyAcq LCDD-PGa-T4 FOV1\n",
      "EarlyAcq LCDD-PGa4 FOV1\n",
      "EarlyAcq LCDD-PGa3 FOV1\n",
      "EarlyAcq PGa-T1 FOV1\n",
      "EarlyAcq LCDD-PGa-T5 FOV1\n",
      "EarlyAcq LCDD-PGa-T2 FOV1\n",
      "EarlyAcq CTL1 FOV1\n",
      "EarlyAcq ER-L2 FOV1\n",
      "EarlyAcq PGa-T3 FOV1\n",
      "EarlyAcq LCDD-PGa6 FOV1\n",
      "EarlyAcq LCDD-PGa1 FOV1\n",
      "EarlyAcq LCDD-PGa-T1 FOV1\n",
      "EarlyAcq PGa-T2 FOV1\n",
      "EarlyAcq IG-19 FOV2\n",
      "MidAcq ER-L1 FOV1\n",
      "MidAcq LCDD-PGa5 FOV1\n",
      "MidAcq LCDD-PGa-T3 FOV1\n",
      "MidAcq LCDD-PGa-T4 FOV1\n",
      "MidAcq LCDD-PGa4 FOV1\n",
      "MidAcq LCDD-PGa3 FOV1\n",
      "MidAcq PGa-T1 FOV1\n",
      "MidAcq LCDD-PGa-T5 FOV1\n",
      "MidAcq LCDD-PGa-T2 FOV1\n",
      "MidAcq CTL1 FOV1\n",
      "MidAcq ER-L2 FOV2\n",
      "MidAcq PGa-T3 FOV1\n",
      "MidAcq LCDD-PGa6 FOV1\n",
      "MidAcq LCDD-PGa1 FOV1\n",
      "MidAcq LCDD-PGa-T1 FOV1\n",
      "MidAcq PGa-T2 FOV1\n",
      "MidAcq IG-19 FOV2\n",
      "LateAcq ER-L1 FOV2\n",
      "LateAcq LCDD-PGa5 FOV1\n",
      "LateAcq LCDD-PGa-T3 FOV1\n",
      "LateAcq LCDD-PGa-T4 FOV1\n",
      "LateAcq LCDD-PGa4 FOV1\n",
      "LateAcq LCDD-PGa3 FOV1\n",
      "LateAcq PGa-T1 FOV1\n",
      "LateAcq LCDD-PGa-T5 FOV1\n",
      "LateAcq LCDD-PGa-T2 FOV1\n",
      "LateAcq CTL1 FOV1\n",
      "LateAcq ER-L2 FOV1\n",
      "LateAcq PGa-T3 FOV1\n",
      "LateAcq LCDD-PGa6 FOV1\n",
      "LateAcq LCDD-PGa1 FOV1\n",
      "LateAcq LCDD-PGa-T1 FOV1\n",
      "LateAcq PGa-T2 FOV1\n",
      "LateAcq IG-19 FOV2\n",
      "EarlyExt ER-L1 FOV1\n",
      "EarlyExt LCDD-PGa5 FOV1\n",
      "EarlyExt LCDD-PGa-T3 FOV1\n",
      "EarlyExt LCDD-PGa-T4 FOV1\n",
      "EarlyExt LCDD-PGa4 FOV1\n",
      "EarlyExt LCDD-PGa3 FOV1\n",
      "EarlyExt PGa-T1 FOV1\n",
      "EarlyExt LCDD-PGa-T5 FOV1\n",
      "EarlyExt LCDD-PGa-T2 FOV1\n",
      "EarlyExt CTL1 FOV1\n",
      "EarlyExt ER-L2 FOV1\n",
      "EarlyExt PGa-T3 FOV1\n",
      "EarlyExt LCDD-PGa6 FOV1\n",
      "EarlyExt LCDD-PGa1 FOV1\n",
      "EarlyExt LCDD-PGa-T1 FOV1\n",
      "EarlyExt PGa-T2 FOV1\n",
      "EarlyExt IG-19 FOV2\n",
      "LateExt ER-L1 FOV1\n",
      "LateExt LCDD-PGa5 FOV1\n",
      "LateExt LCDD-PGa-T3 FOV1\n",
      "LateExt LCDD-PGa-T4 FOV1\n",
      "LateExt LCDD-PGa4 FOV1\n",
      "LateExt LCDD-PGa3 FOV1\n",
      "LateExt PGa-T1 FOV1\n",
      "LateExt LCDD-PGa-T5 FOV1\n",
      "LateExt LCDD-PGa-T2 FOV1\n",
      "LateExt CTL1 FOV1\n",
      "LateExt ER-L2 FOV1\n",
      "LateExt PGa-T3 FOV1\n",
      "LateExt LCDD-PGa6 FOV1\n",
      "LateExt LCDD-PGa1 FOV1\n",
      "LateExt LCDD-PGa-T1 FOV1\n",
      "LateExt PGa-T2 FOV1\n",
      "LateExt IG-19 FOV1\n",
      "CueRein ER-L1 FOV1_tracked\n",
      "CueRein LCDD-PGa5 FOV1_tracked\n",
      "CueRein LCDD-PGa-T3 FOV1_tracked\n",
      "CueRein LCDD-PGa-T4 FOV1_tracked\n",
      "CueRein LCDD-PGa4 FOV1_tracked\n",
      "CueRein LCDD-PGa3 FOV1_tracked\n",
      "CueRein PGa-T1 FOV1_tracked\n",
      "CueRein LCDD-PGa-T5 FOV1_tracked\n",
      "CueRein LCDD-PGa-T2 FOV1_tracked\n",
      "CueRein CTL1 FOV1_tracked\n",
      "CueRein ER-L2 FOV1_tracked\n",
      "CueRein PGa-T3 FOV1_tracked\n",
      "CueRein LCDD-PGa6 FOV1_tracked\n",
      "CueRein LCDD-PGa1 FOV1_tracked\n",
      "CueRein LCDD-PGa-T1 FOV1_tracked\n",
      "CueRein PGa-T2 FOV1_tracked\n",
      "CueRein IG-19 FOV1_tracked\n",
      "DrugRein ER-L1 FOV1_tracked\n",
      "DrugRein LCDD-PGa-T3 FOV1_tracked\n",
      "DrugRein LCDD-PGa-T4 FOV1_tracked\n",
      "DrugRein LCDD-PGa4 FOV1_tracked\n",
      "DrugRein LCDD-PGa3 FOV1_tracked\n",
      "DrugRein PGa-T1 FOV1_tracked\n",
      "DrugRein LCDD-PGa-T5 FOV1_tracked\n",
      "DrugRein LCDD-PGa-T2 FOV1_tracked\n",
      "DrugRein CTL1 FOV1_tracked\n",
      "DrugRein ER-L2 FOV1_tracked\n",
      "DrugRein PGa-T3 FOV1_tracked\n",
      "DrugRein LCDD-PGa6 FOV1_tracked\n",
      "DrugRein LCDD-PGa1 FOV1_tracked\n",
      "DrugRein LCDD-PGa-T1 FOV1_tracked\n",
      "DrugRein PGa-T2 FOV1_tracked\n",
      "DrugRein IG-19 FOV1_tracked\n",
      "TMTRein ER-L1 FOV1_tracked\n",
      "TMTRein LCDD-PGa-T3 FOV1_tracked\n",
      "TMTRein LCDD-PGa-T4 FOV1_tracked\n",
      "TMTRein LCDD-PGa4 FOV1_tracked\n",
      "TMTRein LCDD-PGa3 FOV1_tracked\n",
      "TMTRein PGa-T1 FOV1_tracked\n",
      "TMTRein LCDD-PGa-T5 FOV1_tracked\n",
      "TMTRein LCDD-PGa-T2 FOV1_tracked\n",
      "TMTRein CTL1 FOV1_tracked\n",
      "TMTRein ER-L2 FOV1_tracked\n",
      "TMTRein PGa-T3 FOV1_tracked\n",
      "TMTRein LCDD-PGa6 FOV1_tracked\n",
      "TMTRein LCDD-PGa1 FOV1_tracked\n",
      "TMTRein LCDD-PGa-T1 FOV1_tracked\n",
      "TMTRein PGa-T2 FOV1_tracked\n",
      "TMTRein IG-19 FOV1_tracked\n"
     ]
    }
   ],
   "source": [
    "### FIND EVENTS ###\n",
    "event_freq_dict={}\n",
    "auc_dict={}\n",
    "dur_dict={}\n",
    "peak_dict={}\n",
    "\n",
    "event_freq_day={}\n",
    "auc_day={}\n",
    "dur_day={}\n",
    "peak_day={}\n",
    "\n",
    "for day in days:\n",
    "    event_freq_dict[day]={}\n",
    "    auc_dict[day]={}\n",
    "    dur_dict[day]={}\n",
    "    peak_dict[day]={}\n",
    "    \n",
    "    event_freq_day[day]=[]\n",
    "    auc_day[day]=[]\n",
    "    dur_day[day]=[]\n",
    "    peak_day[day]=[]\n",
    "    \n",
    "    animals = next(os.walk(os.path.join(basedir, day)))[1]\n",
    "    for animal in animals:\n",
    "        event_freq_dict[day][animal]={}\n",
    "        auc_dict[day][animal]={}\n",
    "        dur_dict[day][animal]={}\n",
    "        peak_dict[day][animal]={}\n",
    "        fovs = next(os.walk(os.path.join(basedir, day, animal)))[1]\n",
    "        for fov in fovs:\n",
    "            print(day, animal, fov)\n",
    "            numneurons = signal_dict[day][animal][fov][0]\n",
    "            numframes =  signal_dict[day][animal][fov][2].shape[1]\n",
    "            \n",
    "            time=np.arange(numframes)\n",
    "            signals_with_time=np.vstack(((np.squeeze(signal_dict[day][animal][fov][2])), time)) \n",
    "\n",
    "            #find frame number of 'up' and 'down' events.  Up corresponds to rising edge, down=falling edge\n",
    "            diff_down=np.empty(signals_with_time.shape)\n",
    "            diff_down[:]=np.NAN\n",
    "            diff_up=np.empty(signals_with_time.shape)\n",
    "            diff_up[:]=np.NAN\n",
    "\n",
    "            for a in range(numneurons):\n",
    "                for i in range(numframes):\n",
    "                    if combined[day][animal][fov][a,i]<0:\n",
    "                        diff_down[a,i]=signals_with_time[-1,i]\n",
    "                    if combined[day][animal][fov][a,i]>0:\n",
    "                        diff_up[a,i]=signals_with_time[-1,i]\n",
    "                     \n",
    "            temp_up=np.empty([signals_with_time.shape[1],2])\n",
    "            temp_up[:]=np.NAN\n",
    "            temp_down=np.empty([signals_with_time.shape[1],2])\n",
    "            temp_down[:]=np.NAN\n",
    "            event_time=np.NAN*np.ones(signals_with_time.shape)\n",
    "            allevents=np.NAN*np.ones(signals_with_time.shape)\n",
    "            allareas=np.NAN*np.ones(signals_with_time.shape)\n",
    "            allpeak=np.NAN*np.ones(signals_with_time.shape)\n",
    "\n",
    "            for a in range(0,numneurons):\n",
    "                temp_up[:,0]=diff_up[a,:]\n",
    "                temp_down[:,1]=diff_down[a,:]\n",
    "                temp_up2=(temp_up[~np.isnan(temp_up)].astype(int)) ### Changed to Int to account for decimal framerate\n",
    "                temp_down2 = (temp_down[~np.isnan(temp_down)].astype(int)) ### Changed to Int to account for decimal framerate\n",
    "                event_time=temp_down2-temp_up2\n",
    "                for q in range (0,event_time.shape[0]):\n",
    "                    area=np.NAN*np.ones(event_time.shape[0])\n",
    "                    placehold_frames=signal_dict[day][animal][fov][2][a,temp_up2[q]:temp_down2[q]]\n",
    "                    peak=np.max(placehold_frames)\n",
    "                    area=np.trapz(placehold_frames)#, x=None, dx=1)#, axis=-1)   \n",
    "                    allareas[a,q] = area \n",
    "                    allpeak[a,q] = peak\n",
    "                allevents[a,:event_time.shape[0]] = event_time\n",
    "                \n",
    "            allevents=allevents/framerate\n",
    "            count_events=~np.isnan(allevents)\n",
    "            count_events=np.sum(count_events,axis=1);count_events=count_events[0:count_events.shape[0]-1]\n",
    "            \n",
    "            auc_dict[day][animal][fov]=np.nanmean(allareas[:-1,:],axis=1)\n",
    "            dur_dict[day][animal][fov]=np.nanmean(allevents[:-1,:],axis=1)\n",
    "            peak_dict[day][animal][fov]=np.nanmean(allpeak[:-1,:],axis=1)\n",
    "            \n",
    "            event_freq_day[day]=np.append(event_freq_day[day],count_events)\n",
    "            auc_day[day]=np.append(auc_day[day],auc_dict[day][animal][fov])\n",
    "            dur_day[day]=np.append(dur_day[day],dur_dict[day][animal][fov])\n",
    "            peak_day[day]=np.append(peak_day[day],peak_dict[day][animal][fov])\n",
    "            \n",
    "            \n",
    "#             ##find inter-event intervals\n",
    "#             print(up.shape, time.shape)\n",
    "#             combine_time=np.vstack((up,time))\n",
    "#             for a in range(0,numneurons):\n",
    "#                 for b in range(0,numframes):\n",
    "#                     if combined[a,b]==1:\n",
    "#                         combine_time[a,b]=combine_time[-1,b]\n",
    "#             event_time=np.nan*np.zeros((combined.shape))\n",
    "#             event_iei=np.nan*np.zeros((combined.shape))\n",
    "#             combine_time[combine_time==0]=np.nan\n",
    "#             for a in range(0,numrois):\n",
    "#                 temp_time=combine_time[a,:]\n",
    "#                 temp_time=temp_time[~isnan(temp_time)]\n",
    "#                 temp_iei=np.diff(temp_time)\n",
    "#                 event_time[a,0:temp_time.shape[0]]=temp_time\n",
    "#                 event_iei[a,0:temp_iei.shape[0]]=temp_iei\n",
    "#             event_iei=event_iei/framerate\n",
    "#             event_iei_mean=np.nanmean(event_iei,axis=1)\n",
    "            \n"
   ]
  },
  {
   "cell_type": "code",
   "execution_count": 139,
   "metadata": {},
   "outputs": [
    {
     "name": "stdout",
     "output_type": "stream",
     "text": [
      "(2392,)\n",
      "(2592,)\n",
      "(2237,)\n",
      "(2284,)\n",
      "(2466,)\n",
      "(2192,)\n",
      "(2381,)\n",
      "(2223,)\n"
     ]
    },
    {
     "data": {
      "image/png": "[encoded data removed]",
      "text/plain": [
       "<Figure size 432x288 with 1 Axes>"
      ]
     },
     "metadata": {
      "needs_background": "light"
     },
     "output_type": "display_data"
    }
   ],
   "source": [
    "### LOAD AND PLOT AVERAGES BY DAY ###\n",
    "colors = ['k','k','k','gray','gray','red','red','red']\n",
    "\n",
    "for d, day in enumerate(days):\n",
    "    print(np.shape(event_freq_day[day]))\n",
    "    plt.bar(x = d, height = np.nanmean(event_freq_day[day]), color = colors[d])\n",
    "\n",
    "    plt.errorbar(x = d, y = np.nanmean(event_freq_day[day]), \\\n",
    "        yerr =  np.nanstd(event_freq_day[day])/(np.sqrt(len((event_freq_day[day])))), color = 'k')\n",
    "#     plt.ylim(50,60)\n",
    "    \n",
    "plt.show()\n",
    "                            "
   ]
  },
  {
   "cell_type": "code",
   "execution_count": null,
   "metadata": {},
   "outputs": [],
   "source": []
  },
  {
   "cell_type": "code",
   "execution_count": null,
   "metadata": {},
   "outputs": [],
   "source": []
  },
  {
   "cell_type": "code",
   "execution_count": null,
   "metadata": {},
   "outputs": [],
   "source": []
  },
  {
   "cell_type": "code",
   "execution_count": null,
   "metadata": {},
   "outputs": [],
   "source": []
  },
  {
   "cell_type": "code",
   "execution_count": null,
   "metadata": {},
   "outputs": [],
   "source": []
  },
  {
   "cell_type": "code",
   "execution_count": 524,
   "metadata": {},
   "outputs": [
    {
     "name": "stderr",
     "output_type": "stream",
     "text": [
      "/Users/jamesotis/opt/anaconda3/lib/python3.7/site-packages/ipykernel_launcher.py:17: RuntimeWarning: Mean of empty slice\n"
     ]
    }
   ],
   "source": [
    "##find event times and export inter-event intervals\n",
    "combine_time=np.vstack((up,time))\n",
    "for a in range(0,numrois):\n",
    "    for b in range(0,numframes):\n",
    "        if combined[a,b]==1:\n",
    "            combine_time[a,b]=combine_time[-1,b]\n",
    "event_time=np.nan*np.zeros((combined.shape))\n",
    "event_iei=np.nan*np.zeros((combined.shape))\n",
    "combine_time[combine_time==0]=np.nan\n",
    "for a in range(0,numrois):\n",
    "    temp_time=combine_time[a,:]\n",
    "    temp_time=temp_time[~isnan(temp_time)]\n",
    "    temp_iei=np.diff(temp_time)\n",
    "    event_time[a,0:temp_time.shape[0]]=temp_time\n",
    "    event_iei[a,0:temp_iei.shape[0]]=temp_iei\n",
    "event_iei=event_iei/framerate\n",
    "event_iei_mean=np.nanmean(event_iei,axis=1)\n",
    "    \n",
    "# if export_files[0]=='yes':\n",
    "#     np.save(filename+'_event_frames',event_time)\n",
    "#     np.savetxt(filename+'event_frames.csv',event_time.T,delimiter=',')\n",
    "#     np.save(filename+'_inter_event_interval',event_iei)\n",
    "#     np.savetxt(filename+'_mean_iei.csv',event_iei_mean,delimiter=',')"
   ]
  },
  {
   "cell_type": "code",
   "execution_count": 525,
   "metadata": {},
   "outputs": [],
   "source": [
    "#remove nans from event arrays\n",
    "allevents2=allevents[~np.isnan(allevents)]\n",
    "allareas2=allareas[~np.isnan(allareas)]\n",
    "allpeak2=allpeak[~np.isnan(allpeak)]\n",
    "alliei=event_iei[~np.isnan(event_iei)]"
   ]
  },
  {
   "cell_type": "code",
   "execution_count": 526,
   "metadata": {},
   "outputs": [
    {
     "name": "stdout",
     "output_type": "stream",
     "text": [
      "Number of events = 40381\n"
     ]
    },
    {
     "data": {
      "image/png": "[encoded data removed]",
      "text/plain": [
       "<Figure size 1440x720 with 1 Axes>"
      ]
     },
     "metadata": {
      "needs_background": "light"
     },
     "output_type": "display_data"
    },
    {
     "data": {
      "image/png": "[encoded data removed]",
      "text/plain": [
       "<Figure size 1440x720 with 1 Axes>"
      ]
     },
     "metadata": {
      "needs_background": "light"
     },
     "output_type": "display_data"
    },
    {
     "data": {
      "image/png": "[encoded data removed]",
      "text/plain": [
       "<Figure size 1440x720 with 1 Axes>"
      ]
     },
     "metadata": {
      "needs_background": "light"
     },
     "output_type": "display_data"
    },
    {
     "data": {
      "image/png": "[encoded data removed]",
      "text/plain": [
       "<Figure size 1440x720 with 1 Axes>"
      ]
     },
     "metadata": {
      "needs_background": "light"
     },
     "output_type": "display_data"
    }
   ],
   "source": [
    "#plot histogram for all AUC, duration of Ca event (in seconds), and peak response amplitude\n",
    "print('Number of events = '+str(allevents2.shape[0]))\n",
    "\n",
    "def plot_histogram(data,bins,xmin,xmax,title,xtitle,color):\n",
    "    plt.figure(figsize=(20,10))\n",
    "    ax = plt.subplot(322)\n",
    "    plt.hist(data, bins, [xmin,xmax], facecolor=color)\n",
    "    plt.title('Distribution of '+title, fontsize='16')\n",
    "    plt.ylabel('Event count', fontsize='16')\n",
    "    ax.set_fc(color='white')\n",
    "    plt.xlabel(xtitle)\n",
    "              \n",
    "fig1=plot_histogram(allevents2,100,0,20,'Event Durations','Event Duration (s)','green')\n",
    "fig2=plot_histogram(allareas2,100,0,100,'Event Areas','Event AUC','red')\n",
    "fig3=plot_histogram(allpeak2,100,threshold,10,'Peak Amplitudes','Event Amplitude','blue')\n",
    "fig4=plot_histogram(alliei,150,threshold,150,'Inter-event Intervals','Inter-event Interval (s)','k')"
   ]
  },
  {
   "cell_type": "code",
   "execution_count": null,
   "metadata": {},
   "outputs": [],
   "source": []
  },
  {
   "cell_type": "code",
   "execution_count": 527,
   "metadata": {},
   "outputs": [
    {
     "name": "stderr",
     "output_type": "stream",
     "text": [
      "/Users/jamesotis/opt/anaconda3/lib/python3.7/site-packages/ipykernel_launcher.py:2: RuntimeWarning: invalid value encountered in less\n",
      "  \n",
      "/Users/jamesotis/opt/anaconda3/lib/python3.7/site-packages/ipykernel_launcher.py:3: RuntimeWarning: invalid value encountered in less\n",
      "  This is separate from the ipykernel package so we can avoid doing imports until\n"
     ]
    }
   ],
   "source": [
    "#filter data based on thresholds defined above\n",
    "allevents_pre_filt[allevents_pre_filt<framethreshold]=np.nan\n",
    "allareas_pre_filt[allareas_pre_filt<areathreshold]=np.nan\n",
    "allevents_filt=allevents_pre_filt[~np.isnan(allevents_pre_filt)]\n",
    "allareas_filt=allareas_pre_filt[~np.isnan(allareas_pre_filt)]"
   ]
  },
  {
   "cell_type": "code",
   "execution_count": 528,
   "metadata": {},
   "outputs": [
    {
     "name": "stderr",
     "output_type": "stream",
     "text": [
      "/Users/jamesotis/opt/anaconda3/lib/python3.7/site-packages/ipykernel_launcher.py:18: RuntimeWarning: Mean of empty slice\n",
      "/Users/jamesotis/opt/anaconda3/lib/python3.7/site-packages/ipykernel_launcher.py:19: RuntimeWarning: Mean of empty slice\n",
      "/Users/jamesotis/opt/anaconda3/lib/python3.7/site-packages/numpy/lib/nanfunctions.py:995: RuntimeWarning: All-NaN slice encountered\n",
      "  result = np.apply_along_axis(_nanmedian1d, axis, a, overwrite_input)\n",
      "/Users/jamesotis/opt/anaconda3/lib/python3.7/site-packages/ipykernel_launcher.py:29: RuntimeWarning: Mean of empty slice\n"
     ]
    }
   ],
   "source": [
    "#filter peak amplitude, auc, and iei using the filtered duration data\n",
    "peak_filt=allpeak\n",
    "auc_durfilt=allareasdurfilt\n",
    "event_frames_durfilt=event_time\n",
    "iei_durfilt=np.nan*np.zeros((allevents.shape))\n",
    "event_frames_durfilt=np.vstack((event_frames_durfilt,(np.nan*np.zeros((1,numframes)))))\n",
    "\n",
    "for a in range(0,allevents.shape[0]):\n",
    "    for b in range(0,allevents.shape[1]):\n",
    "        if allevents[a,b]>0:\n",
    "            peak_filt[a,b]=peak_filt[a,b]\n",
    "            auc_durfilt[a,b]=auc_durfilt[a,b]\n",
    "            event_frames_durfilt[a,b]=event_frames_durfilt[a,b]\n",
    "        else:\n",
    "            peak_filt[a,b]=np.nan \n",
    "            auc_durfilt[a,b]=np.nan\n",
    "            event_frames_durfilt[a,b]=np.nan\n",
    "peak_filt_mean=np.nanmean(peak_filt,axis=1)\n",
    "auc_durfilt_mean=np.nanmean(auc_durfilt,axis=1)\n",
    "peak_filt_median=np.nanmedian(peak_filt,axis=1)\n",
    "auc_durfilt_median=np.nanmedian(auc_durfilt,axis=1)\n",
    "\n",
    "for a in range(0,numrois):\n",
    "    temp_frame_nums=event_frames_durfilt[a,:]\n",
    "    temp_frame_nums=temp_frame_nums[~np.isnan(temp_frame_nums)]\n",
    "    temp_iei=np.diff(temp_frame_nums)\n",
    "    iei_durfilt[a,0:temp_iei.shape[0]]=temp_iei\n",
    "iei_durfilt=iei_durfilt/framerate\n",
    "iei_durfilt_mean=np.nanmean(iei_durfilt,axis=1)\n",
    "\n",
    "if export_files[0]=='yes':\n",
    "#     np.save(filename+'_peak_amplitude_filt', peak_filt)\n",
    "#     np.savetxt(filename+'_Amplitude_filt_AVG.csv',peak_filt_mean,delimiter=',')\n",
    "#     np.savetxt(filename+'_Amplitude_filt_MEDIAN.csv',peak_filt_median,delimiter=',')\n",
    "#     np.save(filename+'_auc_durf ilt', auc_durfilt)\n",
    "#     np.savetxt(filename+'_auc_durfilt_AVG.csv',auc_durfilt_mean,delimiter=',')\n",
    "    np.savetxt(filename+'_auc_durfilt_MEDIAN.csv',auc_durfilt_median,delimiter=',')\n",
    "#     np.save(filename+'_iei_durfilt',iei_durfilt)\n",
    "#     np.savetxt(filename+'_iei_durfilt_Avg.csv',iei_durfilt_mean,delimiter=',')\n",
    "#     np.save(filename+'_event_frames_durfilt',event_frames_durfilt)"
   ]
  },
  {
   "cell_type": "code",
   "execution_count": 505,
   "metadata": {},
   "outputs": [
    {
     "name": "stdout",
     "output_type": "stream",
     "text": [
      "Number of events for duration filter = 36347\n",
      "Number of events for area filter = 10123\n"
     ]
    },
    {
     "name": "stderr",
     "output_type": "stream",
     "text": [
      "/Users/jamesotis/opt/anaconda3/lib/python3.7/site-packages/ipykernel_launcher.py:16: RuntimeWarning: Mean of empty slice\n",
      "  app.launch_new_instance()\n",
      "/Users/jamesotis/opt/anaconda3/lib/python3.7/site-packages/ipykernel_launcher.py:17: RuntimeWarning: Mean of empty slice\n"
     ]
    },
    {
     "data": {
      "image/png": "[encoded data removed]",
      "text/plain": [
       "<Figure size 1440x720 with 1 Axes>"
      ]
     },
     "metadata": {
      "needs_background": "light"
     },
     "output_type": "display_data"
    },
    {
     "data": {
      "image/png": "[encoded data removed]",
      "text/plain": [
       "<Figure size 1440x720 with 1 Axes>"
      ]
     },
     "metadata": {
      "needs_background": "light"
     },
     "output_type": "display_data"
    },
    {
     "data": {
      "image/png": "[encoded data removed]",
      "text/plain": [
       "<Figure size 1440x720 with 1 Axes>"
      ]
     },
     "metadata": {
      "needs_background": "light"
     },
     "output_type": "display_data"
    },
    {
     "data": {
      "image/png": "[encoded data removed]",
      "text/plain": [
       "<Figure size 1440x720 with 1 Axes>"
      ]
     },
     "metadata": {
      "needs_background": "light"
     },
     "output_type": "display_data"
    }
   ],
   "source": [
    "#plot histograms of filterd data\n",
    "print('Number of events for duration filter = '+str(allevents_filt.shape[0]))\n",
    "print('Number of events for area filter = '+str(allareas_filt.shape[0]))\n",
    "\n",
    "fig5=plot_histogram(allevents_filt,100,0,20,'Event Durations Filtered','Event Duration (s)','green')\n",
    "fig6=plot_histogram(allareas_filt,100,0,100,'Event Areas','Event AUC Filtered','red')\n",
    "allpeakfilt=peak_filt[~np.isnan(peak_filt)]\n",
    "fig7=plot_histogram(allpeakfilt,100,threshold,10,'Peak Amplitudes','Event Amplitude Filtered','blue')\n",
    "alliei_durfilt=iei_durfilt[~np.isnan(iei_durfilt)]\n",
    "fig8=plot_histogram(alliei_durfilt,150,threshold,150,'Inter-event Intervals','Inter-event Interval Filtered','black')\n",
    "\n",
    "count_dur_filt=~np.isnan(allevents)\n",
    "count_dur_filt=np.sum(count_dur_filt,axis=1);count_dur_filt=count_dur_filt[0:count_dur_filt.shape[0]-1]\n",
    "count_AUC_filt=~np.isnan(allareas)\n",
    "count_AUC_filt=np.sum(count_AUC_filt,axis=1);count_AUC_filt=count_AUC_filt[0:count_AUC_filt.shape[0]-1]\n",
    "dur_filt_mean=np.nanmean(allevents,axis=1)\n",
    "auc_filt_mean=np.nanmean(allareas,axis=1)\n",
    "\n",
    "## save filtered data\n",
    "# if export_files[0]=='yes':\n",
    "#     np.savetxt(filename+'_dur_filt.csv', allevents.T, delimiter=',')\n",
    "#     np.save(filename+'_dur_filt', allevents)\n",
    "#     np.savetxt(filename+'_AUC_filt.csv', allareas.T, delimiter=',')\n",
    "#     np.save(filename+'_AUC_filt', allareas)\n",
    "#     np.savetxt(filename+'_dur_filt_Avg.csv',dur_filt_mean,delimiter=',')\n",
    "#     np.savetxt(filename+'_AUC_filt_Avg.csv',auc_filt_mean,delimiter=',')\n",
    "#     np.savetxt(filename+'_Num_events_dur_filt.csv',count_dur_filt,delimiter=',',fmt='%i')\n",
    "#     np.savetxt(filename+'_Num_events_AUC_filt.csv',count_AUC_filt,delimiter=',',fmt='%i')"
   ]
  },
  {
   "cell_type": "code",
   "execution_count": 428,
   "metadata": {},
   "outputs": [],
   "source": [
    "## find frame numbers for filtered events\n",
    "plot_events_filt=np.nan*np.zeros((event_frames_durfilt.shape))\n",
    "for a in range(0,numrois):\n",
    "    plot_events_filt[a,:]=np.in1d(time, event_frames_durfilt[a,:])\n",
    "for a in range(0,numrois):\n",
    "    for b in range(0,numframes):\n",
    "        if plot_events_filt[a,b]==0:\n",
    "            plot_events_filt[a,b]=np.nan\n",
    "plot_events_filt=plot_events_filt*threshold"
   ]
  },
  {
   "cell_type": "code",
   "execution_count": 429,
   "metadata": {},
   "outputs": [],
   "source": [
    "#plot ts with filtered event borders overlayed in red and export if desired\n",
    "if plot_traces_filtered[0]=='yes':\n",
    "    for a in range(0,numrois):\n",
    "        fig,ax = plt.subplots(1)\n",
    "        sns.lineplot(data=signals_smoothed[a,start_frame:end_frame])\n",
    "        sns.lineplot(data=plot_events_filt[a,start_frame:end_frame], color='r')\n",
    "        plt.xlabel('Frames', fontsize='16')\n",
    "        plt.ylabel(y_axis, fontsize='16')\n",
    "        plt.title('ROI numer '+str(a)+' Filtered', fontsize='16')\n",
    "        ax.set_fc(color='white')\n",
    "        plt.show()\n",
    "        if export_traces[0]=='yes':\n",
    "            fig.savefig(filename+'_ROI_FILT'+str(a)+'.png', format='png')\n",
    "            fig.clf()"
   ]
  },
  {
   "cell_type": "code",
   "execution_count": 430,
   "metadata": {},
   "outputs": [
    {
     "ename": "TypeError",
     "evalue": "slice indices must be integers or None or have an __index__ method",
     "output_type": "error",
     "traceback": [
      "\u001b[0;31m---------------------------------------------------------------------------\u001b[0m",
      "\u001b[0;31mTypeError\u001b[0m                                 Traceback (most recent call last)",
      "\u001b[0;32m<ipython-input-430-c6b4eff069f6>\u001b[0m in \u001b[0;36m<module>\u001b[0;34m\u001b[0m\n\u001b[1;32m     17\u001b[0m             \u001b[0mdur_event_count_filt\u001b[0m\u001b[0;34m[\u001b[0m\u001b[0ma\u001b[0m\u001b[0;34m,\u001b[0m\u001b[0;34m:\u001b[0m\u001b[0;34m]\u001b[0m\u001b[0;34m=\u001b[0m\u001b[0mnp\u001b[0m\u001b[0;34m.\u001b[0m\u001b[0mnan\u001b[0m\u001b[0;34m\u001b[0m\u001b[0;34m\u001b[0m\u001b[0m\n\u001b[1;32m     18\u001b[0m         \u001b[0;31m# eliminate cells that have 'drift' defined by difference between event rate in first 1/3 vs. last 1/3 of frames\u001b[0m\u001b[0;34m\u001b[0m\u001b[0;34m\u001b[0m\u001b[0;34m\u001b[0m\u001b[0m\n\u001b[0;32m---> 19\u001b[0;31m         \u001b[0;32melif\u001b[0m \u001b[0mnp\u001b[0m\u001b[0;34m.\u001b[0m\u001b[0mabsolute\u001b[0m\u001b[0;34m(\u001b[0m\u001b[0;34m(\u001b[0m\u001b[0mnp\u001b[0m\u001b[0;34m.\u001b[0m\u001b[0mnansum\u001b[0m\u001b[0;34m(\u001b[0m\u001b[0mplot_events_filt\u001b[0m\u001b[0;34m[\u001b[0m\u001b[0ma\u001b[0m\u001b[0;34m,\u001b[0m\u001b[0;36m0\u001b[0m\u001b[0;34m:\u001b[0m\u001b[0mnumframes\u001b[0m\u001b[0;34m/\u001b[0m\u001b[0;36m3\u001b[0m\u001b[0;34m]\u001b[0m\u001b[0;34m)\u001b[0m\u001b[0;34m)\u001b[0m\u001b[0;34m-\u001b[0m\u001b[0;34m(\u001b[0m\u001b[0mnp\u001b[0m\u001b[0;34m.\u001b[0m\u001b[0mnansum\u001b[0m\u001b[0;34m(\u001b[0m\u001b[0mplot_events_filt\u001b[0m\u001b[0;34m[\u001b[0m\u001b[0ma\u001b[0m\u001b[0;34m,\u001b[0m\u001b[0mnumframes\u001b[0m\u001b[0;34m/\u001b[0m\u001b[0;36m3\u001b[0m\u001b[0;34m*\u001b[0m\u001b[0;36m2\u001b[0m\u001b[0;34m:\u001b[0m\u001b[0mnumframes\u001b[0m\u001b[0;34m]\u001b[0m\u001b[0;34m)\u001b[0m\u001b[0;34m)\u001b[0m\u001b[0;34m)\u001b[0m\u001b[0;34m>\u001b[0m\u001b[0mmax_difference\u001b[0m\u001b[0;34m:\u001b[0m\u001b[0;34m\u001b[0m\u001b[0;34m\u001b[0m\u001b[0m\n\u001b[0m\u001b[1;32m     20\u001b[0m             \u001b[0mpeak_amp_event_count_filt\u001b[0m\u001b[0;34m[\u001b[0m\u001b[0ma\u001b[0m\u001b[0;34m,\u001b[0m\u001b[0;34m:\u001b[0m\u001b[0;34m]\u001b[0m\u001b[0;34m=\u001b[0m\u001b[0mnp\u001b[0m\u001b[0;34m.\u001b[0m\u001b[0mnan\u001b[0m\u001b[0;34m\u001b[0m\u001b[0;34m\u001b[0m\u001b[0m\n\u001b[1;32m     21\u001b[0m             \u001b[0mauc_event_count_filt\u001b[0m\u001b[0;34m[\u001b[0m\u001b[0ma\u001b[0m\u001b[0;34m,\u001b[0m\u001b[0;34m:\u001b[0m\u001b[0;34m]\u001b[0m\u001b[0;34m=\u001b[0m\u001b[0mnp\u001b[0m\u001b[0;34m.\u001b[0m\u001b[0mnan\u001b[0m\u001b[0;34m\u001b[0m\u001b[0;34m\u001b[0m\u001b[0m\n",
      "\u001b[0;31mTypeError\u001b[0m: slice indices must be integers or None or have an __index__ method"
     ]
    }
   ],
   "source": [
    "## filter data by event rate\n",
    "if event_rate_filter_on[0]=='yes':\n",
    "    test=np.nan*np.zeros((plot_events_filt.shape[0]))\n",
    "    peak_amp_event_count_filt=peak_filt\n",
    "    auc_event_count_filt=auc_durfilt\n",
    "    iei_event_count_filt=iei_durfilt\n",
    "    event_frames_event_count_filt=event_frames_durfilt\n",
    "    dur_event_count_filt=allevents\n",
    "    \n",
    "    #eliminate cells that are below the min event threshold\n",
    "    for a in range(0,plot_events_filt.shape[0]):\n",
    "        if np.nansum(plot_events_filt[a,:])<=min_event_count:\n",
    "            peak_amp_event_count_filt[a,:]=np.nan\n",
    "            auc_event_count_filt[a,:]=np.nan\n",
    "            iei_event_count_filt[a,:]=np.nan\n",
    "            event_frames_event_count_filt[a,:]=np.nan\n",
    "            dur_event_count_filt[a,:]=np.nan\n",
    "        # eliminate cells that have 'drift' defined by difference between event rate in first 1/3 vs. last 1/3 of frames\n",
    "        elif np.absolute((np.nansum(plot_events_filt[a,0:numframes/3]))-(np.nansum(plot_events_filt[a,numframes/3*2:numframes])))>max_difference:\n",
    "            peak_amp_event_count_filt[a,:]=np.nan\n",
    "            auc_event_count_filt[a,:]=np.nan\n",
    "            iei_event_count_filt[a,:]=np.nan\n",
    "            event_frames_event_count_filt[a,:]=np.nan\n",
    "            dur_event_count_filt[a,:]=np.nan \n",
    "    peak_amp_event_count_filt_avg=np.nanmean(peak_amp_event_count_filt,axis=1)\n",
    "    auc_event_count_filt_avg=np.nanmean(auc_event_count_filt,axis=1)\n",
    "    iei_event_count_filt_avg=np.nanmean(iei_event_count_filt,axis=1) \n",
    "    dur_event_count_filt_avg=np.nanmean(dur_event_count_filt,axis=1)  \n",
    "    \n",
    "    #create mask for which cells to eliminate (cells to remove will be 1s and cells to keep will be nans)\n",
    "    event_count_mask=np.ones((allevents.shape))\n",
    "    for a in range(0,plot_events_filt.shape[0]):\n",
    "        if np.nansum(peak_amp_event_count_filt[a])>0:\n",
    "            event_count_mask[a,:]=np.nan\n",
    "    event_count_mask=event_count_mask[0:-1,:]\n",
    "    \n",
    "    print('Cells excluded = '+str(np.nansum(event_count_mask[:,0])))\n",
    "\n",
    "#     if export_files[0]=='yes':\n",
    "#         np.save(filename+'_peak_amp_EvntCT_filt', peak_amp_event_count_filt)\n",
    "#         np.savetxt(filename+'_Amp_EvntCT_filt_AVG.csv',peak_amp_event_count_filt_avg,delimiter=',')\n",
    "#         np.save(filename+'_auc_EvntCT_filt', auc_event_count_filt)\n",
    "#         np.savetxt(filename+'_auc_EvntCT_filt_AVG.csv',auc_event_count_filt_avg,delimiter=',')\n",
    "#         np.save(filename+'_iei_EvntCT_filt',iei_event_count_filt)\n",
    "#         np.savetxt(filename+'_iei_EvntCT_filt_Avg.csv',iei_event_count_filt_avg,delimiter=',')\n",
    "#         np.save(filename+'_dur_EvntCT_filt',dur_event_count_filt)\n",
    "#         np.savetxt(filename+'_dur_EvntCT_filt_Avg.csv',dur_event_count_filt_avg,delimiter=',')\n",
    "#         np.save(filename+'_event_frames_EventCT_filt',event_frames_event_count_filt)\n",
    "#         np.save(filename+'_event_count_MASK',event_count_mask)"
   ]
  },
  {
   "cell_type": "code",
   "execution_count": null,
   "metadata": {},
   "outputs": [],
   "source": [
    "#display descriptive stats of durations\n",
    "describe_durations=pd.DataFrame(allevents2)\n",
    "pd.DataFrame.describe(describe_durations)"
   ]
  },
  {
   "cell_type": "code",
   "execution_count": 404,
   "metadata": {},
   "outputs": [
    {
     "data": {
      "text/html": [
       "<div>\n",
       "<style scoped>\n",
       "    .dataframe tbody tr th:only-of-type {\n",
       "        vertical-align: middle;\n",
       "    }\n",
       "\n",
       "    .dataframe tbody tr th {\n",
       "        vertical-align: top;\n",
       "    }\n",
       "\n",
       "    .dataframe thead th {\n",
       "        text-align: right;\n",
       "    }\n",
       "</style>\n",
       "<table border=\"1\" class=\"dataframe\">\n",
       "  <thead>\n",
       "    <tr style=\"text-align: right;\">\n",
       "      <th></th>\n",
       "      <th>0</th>\n",
       "    </tr>\n",
       "  </thead>\n",
       "  <tbody>\n",
       "    <tr>\n",
       "      <th>count</th>\n",
       "      <td>18581.000000</td>\n",
       "    </tr>\n",
       "    <tr>\n",
       "      <th>mean</th>\n",
       "      <td>0.126586</td>\n",
       "    </tr>\n",
       "    <tr>\n",
       "      <th>std</th>\n",
       "      <td>0.349821</td>\n",
       "    </tr>\n",
       "    <tr>\n",
       "      <th>min</th>\n",
       "      <td>0.033333</td>\n",
       "    </tr>\n",
       "    <tr>\n",
       "      <th>25%</th>\n",
       "      <td>0.033333</td>\n",
       "    </tr>\n",
       "    <tr>\n",
       "      <th>50%</th>\n",
       "      <td>0.033333</td>\n",
       "    </tr>\n",
       "    <tr>\n",
       "      <th>75%</th>\n",
       "      <td>0.100000</td>\n",
       "    </tr>\n",
       "    <tr>\n",
       "      <th>max</th>\n",
       "      <td>17.066667</td>\n",
       "    </tr>\n",
       "  </tbody>\n",
       "</table>\n",
       "</div>"
      ],
      "text/plain": [
       "                  0\n",
       "count  18581.000000\n",
       "mean       0.126586\n",
       "std        0.349821\n",
       "min        0.033333\n",
       "25%        0.033333\n",
       "50%        0.033333\n",
       "75%        0.100000\n",
       "max       17.066667"
      ]
     },
     "execution_count": 404,
     "metadata": {},
     "output_type": "execute_result"
    }
   ],
   "source": [
    "#display descriptive stats of FILTERED durations\n",
    "describe_durations_filt=pd.DataFrame(allevents_filt)\n",
    "pd.DataFrame.describe(describe_durations_filt)"
   ]
  },
  {
   "cell_type": "code",
   "execution_count": 405,
   "metadata": {},
   "outputs": [
    {
     "data": {
      "text/html": [
       "<div>\n",
       "<style scoped>\n",
       "    .dataframe tbody tr th:only-of-type {\n",
       "        vertical-align: middle;\n",
       "    }\n",
       "\n",
       "    .dataframe tbody tr th {\n",
       "        vertical-align: top;\n",
       "    }\n",
       "\n",
       "    .dataframe thead th {\n",
       "        text-align: right;\n",
       "    }\n",
       "</style>\n",
       "<table border=\"1\" class=\"dataframe\">\n",
       "  <thead>\n",
       "    <tr style=\"text-align: right;\">\n",
       "      <th></th>\n",
       "      <th>0</th>\n",
       "    </tr>\n",
       "  </thead>\n",
       "  <tbody>\n",
       "    <tr>\n",
       "      <th>count</th>\n",
       "      <td>5724.000000</td>\n",
       "    </tr>\n",
       "    <tr>\n",
       "      <th>mean</th>\n",
       "      <td>16.172773</td>\n",
       "    </tr>\n",
       "    <tr>\n",
       "      <th>std</th>\n",
       "      <td>40.459150</td>\n",
       "    </tr>\n",
       "    <tr>\n",
       "      <th>min</th>\n",
       "      <td>2.571659</td>\n",
       "    </tr>\n",
       "    <tr>\n",
       "      <th>25%</th>\n",
       "      <td>3.642712</td>\n",
       "    </tr>\n",
       "    <tr>\n",
       "      <th>50%</th>\n",
       "      <td>6.689766</td>\n",
       "    </tr>\n",
       "    <tr>\n",
       "      <th>75%</th>\n",
       "      <td>14.489373</td>\n",
       "    </tr>\n",
       "    <tr>\n",
       "      <th>max</th>\n",
       "      <td>1242.749831</td>\n",
       "    </tr>\n",
       "  </tbody>\n",
       "</table>\n",
       "</div>"
      ],
      "text/plain": [
       "                 0\n",
       "count  5724.000000\n",
       "mean     16.172773\n",
       "std      40.459150\n",
       "min       2.571659\n",
       "25%       3.642712\n",
       "50%       6.689766\n",
       "75%      14.489373\n",
       "max    1242.749831"
      ]
     },
     "execution_count": 405,
     "metadata": {},
     "output_type": "execute_result"
    }
   ],
   "source": [
    "#display descriptive stats of FILTERED areas\n",
    "describe_areas_filt=pd.DataFrame(allareas_filt)\n",
    "pd.DataFrame.describe(describe_areas_filt)"
   ]
  },
  {
   "cell_type": "code",
   "execution_count": null,
   "metadata": {},
   "outputs": [],
   "source": []
  }
 ],
 "metadata": {
  "kernelspec": {
   "display_name": "Python 3",
   "language": "python",
   "name": "python3"
  },
  "language_info": {
   "codemirror_mode": {
    "name": "ipython",
    "version": 3
   },
   "file_extension": ".py",
   "mimetype": "text/x-python",
   "name": "python",
   "nbconvert_exporter": "python",
   "pygments_lexer": "ipython3",
   "version": "3.7.6"
  }
 },
 "nbformat": 4,
 "nbformat_minor": 4
}
