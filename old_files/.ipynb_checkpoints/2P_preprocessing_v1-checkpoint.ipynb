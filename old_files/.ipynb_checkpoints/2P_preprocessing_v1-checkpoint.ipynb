{
 "cells": [
  {
   "cell_type": "code",
   "execution_count": 1,
   "metadata": {},
   "outputs": [],
   "source": [
    "#Written by RIG on 12/9/19\n",
    "#Picked back up on 1/5/20\n",
    "\n",
    "#This script automates pre-processing of 2p imaging data files/folders\n",
    "\n",
    "#Import the necessary modules\n",
    "import os, sys\n",
    "import shutil\n",
    "import glob\n",
    "#import tempfile"
   ]
  },
  {
   "cell_type": "code",
   "execution_count": 2,
   "metadata": {},
   "outputs": [
    {
     "name": "stdout",
     "output_type": "stream",
     "text": [
      "The current working directory is Z:\\Rachel\\PrL-NAc-SP3\\211215_PrL-NAc-SP3_FOV2_RST-CUE-DRUG\n",
      "Extras folder created in Z:\\Rachel\\PrL-NAc-SP3\\211215_PrL-NAc-SP3_FOV2_RST-CUE-DRUG\n"
     ]
    }
   ],
   "source": [
    "#######Define parent directory########\n",
    "parent_dir = r'Z:\\Rachel\\PrL-NAc-SP3\\211215_PrL-NAc-SP3_FOV2_RST-CUE-DRUG'\n",
    "os.chdir(parent_dir)\n",
    "######################################\n",
    "\n",
    "print (\"The current working directory is %s\" % parent_dir)\n",
    "\n",
    "#Make extras folders\n",
    "folders = next(os.walk(parent_dir))[1]\n",
    "extras_path = os.path.join(parent_dir,\"extras\")\n",
    "if \"extras\" not in folders:\n",
    "    os.mkdir(extras_path)\n",
    "    for i in folders:\n",
    "        os.mkdir(os.path.join(extras_path,i))\n",
    "    print (\"Extras folder created in %s\" % parent_dir)\n",
    "else:\n",
    "    print (\"Extras folder already in %s\" % parent_dir)"
   ]
  },
  {
   "cell_type": "code",
   "execution_count": 3,
   "metadata": {
    "scrolled": false
   },
   "outputs": [
    {
     "name": "stdout",
     "output_type": "stream",
     "text": [
      "('References moved to Z:\\\\Rachel\\\\PrL-NAc-SP3\\\\211215_PrL-NAc-SP3_FOV2_RST-CUE-DRUG\\\\extras', 'PrL-NAc-SP3_HER_RST-CUE-DRUG_FOV2_baseline-000')\n",
      "('.envs moved to Z:\\\\Rachel\\\\PrL-NAc-SP3\\\\211215_PrL-NAc-SP3_FOV2_RST-CUE-DRUG\\\\extras', 'PrL-NAc-SP3_HER_RST-CUE-DRUG_FOV2_baseline-000')\n",
      "('.xmls moved to Z:\\\\Rachel\\\\PrL-NAc-SP3\\\\211215_PrL-NAc-SP3_FOV2_RST-CUE-DRUG\\\\extras', 'PrL-NAc-SP3_HER_RST-CUE-DRUG_FOV2_baseline-000')\n",
      "('References moved to Z:\\\\Rachel\\\\PrL-NAc-SP3\\\\211215_PrL-NAc-SP3_FOV2_RST-CUE-DRUG\\\\extras', 'PrL-NAc-SP3_HER_RST-CUE-DRUG_FOV2_beh-005')\n",
      "('.envs moved to Z:\\\\Rachel\\\\PrL-NAc-SP3\\\\211215_PrL-NAc-SP3_FOV2_RST-CUE-DRUG\\\\extras', 'PrL-NAc-SP3_HER_RST-CUE-DRUG_FOV2_beh-005')\n",
      "('.xmls moved to Z:\\\\Rachel\\\\PrL-NAc-SP3\\\\211215_PrL-NAc-SP3_FOV2_RST-CUE-DRUG\\\\extras', 'PrL-NAc-SP3_HER_RST-CUE-DRUG_FOV2_beh-005')\n",
      "('References moved to Z:\\\\Rachel\\\\PrL-NAc-SP3\\\\211215_PrL-NAc-SP3_FOV2_RST-CUE-DRUG\\\\extras', 'PrL-NAc-SP3_HER_RST-CUE-DRUG_FOV2_beh-006')\n",
      "('.envs moved to Z:\\\\Rachel\\\\PrL-NAc-SP3\\\\211215_PrL-NAc-SP3_FOV2_RST-CUE-DRUG\\\\extras', 'PrL-NAc-SP3_HER_RST-CUE-DRUG_FOV2_beh-006')\n",
      "('.xmls moved to Z:\\\\Rachel\\\\PrL-NAc-SP3\\\\211215_PrL-NAc-SP3_FOV2_RST-CUE-DRUG\\\\extras', 'PrL-NAc-SP3_HER_RST-CUE-DRUG_FOV2_beh-006')\n",
      "('References moved to Z:\\\\Rachel\\\\PrL-NAc-SP3\\\\211215_PrL-NAc-SP3_FOV2_RST-CUE-DRUG\\\\extras', 'PrL-NAc-SP3_HER_RST-CUE-DRUG_FOV2_beh_TMT-007')\n",
      "('.envs moved to Z:\\\\Rachel\\\\PrL-NAc-SP3\\\\211215_PrL-NAc-SP3_FOV2_RST-CUE-DRUG\\\\extras', 'PrL-NAc-SP3_HER_RST-CUE-DRUG_FOV2_beh_TMT-007')\n",
      "('.xmls moved to Z:\\\\Rachel\\\\PrL-NAc-SP3\\\\211215_PrL-NAc-SP3_FOV2_RST-CUE-DRUG\\\\extras', 'PrL-NAc-SP3_HER_RST-CUE-DRUG_FOV2_beh_TMT-007')\n",
      "('References moved to Z:\\\\Rachel\\\\PrL-NAc-SP3\\\\211215_PrL-NAc-SP3_FOV2_RST-CUE-DRUG\\\\extras', 'PrL-NAc-SP3_HER_RST-CUE-DRUG_FOV2_post-008')\n",
      "('.envs moved to Z:\\\\Rachel\\\\PrL-NAc-SP3\\\\211215_PrL-NAc-SP3_FOV2_RST-CUE-DRUG\\\\extras', 'PrL-NAc-SP3_HER_RST-CUE-DRUG_FOV2_post-008')\n",
      "('.xmls moved to Z:\\\\Rachel\\\\PrL-NAc-SP3\\\\211215_PrL-NAc-SP3_FOV2_RST-CUE-DRUG\\\\extras', 'PrL-NAc-SP3_HER_RST-CUE-DRUG_FOV2_post-008')\n",
      "('References moved to Z:\\\\Rachel\\\\PrL-NAc-SP3\\\\211215_PrL-NAc-SP3_FOV2_RST-CUE-DRUG\\\\extras', 'PrL-NAc-SP3_HER_RST-CUE-DRUG_FOV3_baseline-001')\n",
      "('.envs moved to Z:\\\\Rachel\\\\PrL-NAc-SP3\\\\211215_PrL-NAc-SP3_FOV2_RST-CUE-DRUG\\\\extras', 'PrL-NAc-SP3_HER_RST-CUE-DRUG_FOV3_baseline-001')\n",
      "('.xmls moved to Z:\\\\Rachel\\\\PrL-NAc-SP3\\\\211215_PrL-NAc-SP3_FOV2_RST-CUE-DRUG\\\\extras', 'PrL-NAc-SP3_HER_RST-CUE-DRUG_FOV3_baseline-001')\n",
      "('References moved to Z:\\\\Rachel\\\\PrL-NAc-SP3\\\\211215_PrL-NAc-SP3_FOV2_RST-CUE-DRUG\\\\extras', 'PrL-NAc-SP3_HER_RST-CUE-DRUG_FOV3_post-009')\n",
      "('.envs moved to Z:\\\\Rachel\\\\PrL-NAc-SP3\\\\211215_PrL-NAc-SP3_FOV2_RST-CUE-DRUG\\\\extras', 'PrL-NAc-SP3_HER_RST-CUE-DRUG_FOV3_post-009')\n",
      "('.xmls moved to Z:\\\\Rachel\\\\PrL-NAc-SP3\\\\211215_PrL-NAc-SP3_FOV2_RST-CUE-DRUG\\\\extras', 'PrL-NAc-SP3_HER_RST-CUE-DRUG_FOV3_post-009')\n",
      "('References moved to Z:\\\\Rachel\\\\PrL-NAc-SP3\\\\211215_PrL-NAc-SP3_FOV2_RST-CUE-DRUG\\\\extras', 'PrL-NAc-SP3_HER_RST-CUE-DRUG_FOV4_baseline-002')\n",
      "('.envs moved to Z:\\\\Rachel\\\\PrL-NAc-SP3\\\\211215_PrL-NAc-SP3_FOV2_RST-CUE-DRUG\\\\extras', 'PrL-NAc-SP3_HER_RST-CUE-DRUG_FOV4_baseline-002')\n",
      "('.xmls moved to Z:\\\\Rachel\\\\PrL-NAc-SP3\\\\211215_PrL-NAc-SP3_FOV2_RST-CUE-DRUG\\\\extras', 'PrL-NAc-SP3_HER_RST-CUE-DRUG_FOV4_baseline-002')\n",
      "('References moved to Z:\\\\Rachel\\\\PrL-NAc-SP3\\\\211215_PrL-NAc-SP3_FOV2_RST-CUE-DRUG\\\\extras', 'PrL-NAc-SP3_HER_RST-CUE-DRUG_FOV4_post-010')\n",
      "('.envs moved to Z:\\\\Rachel\\\\PrL-NAc-SP3\\\\211215_PrL-NAc-SP3_FOV2_RST-CUE-DRUG\\\\extras', 'PrL-NAc-SP3_HER_RST-CUE-DRUG_FOV4_post-010')\n",
      "('.xmls moved to Z:\\\\Rachel\\\\PrL-NAc-SP3\\\\211215_PrL-NAc-SP3_FOV2_RST-CUE-DRUG\\\\extras', 'PrL-NAc-SP3_HER_RST-CUE-DRUG_FOV4_post-010')\n",
      "('References moved to Z:\\\\Rachel\\\\PrL-NAc-SP3\\\\211215_PrL-NAc-SP3_FOV2_RST-CUE-DRUG\\\\extras', 'PrL-NAc-SP3_HER_RST-CUE-DRUG_FOV5_baseline-003')\n",
      "('.envs moved to Z:\\\\Rachel\\\\PrL-NAc-SP3\\\\211215_PrL-NAc-SP3_FOV2_RST-CUE-DRUG\\\\extras', 'PrL-NAc-SP3_HER_RST-CUE-DRUG_FOV5_baseline-003')\n",
      "('.xmls moved to Z:\\\\Rachel\\\\PrL-NAc-SP3\\\\211215_PrL-NAc-SP3_FOV2_RST-CUE-DRUG\\\\extras', 'PrL-NAc-SP3_HER_RST-CUE-DRUG_FOV5_baseline-003')\n",
      "('References moved to Z:\\\\Rachel\\\\PrL-NAc-SP3\\\\211215_PrL-NAc-SP3_FOV2_RST-CUE-DRUG\\\\extras', 'PrL-NAc-SP3_HER_RST-CUE-DRUG_FOV7_baseline-004')\n",
      "('.envs moved to Z:\\\\Rachel\\\\PrL-NAc-SP3\\\\211215_PrL-NAc-SP3_FOV2_RST-CUE-DRUG\\\\extras', 'PrL-NAc-SP3_HER_RST-CUE-DRUG_FOV7_baseline-004')\n",
      "('.xmls moved to Z:\\\\Rachel\\\\PrL-NAc-SP3\\\\211215_PrL-NAc-SP3_FOV2_RST-CUE-DRUG\\\\extras', 'PrL-NAc-SP3_HER_RST-CUE-DRUG_FOV7_baseline-004')\n",
      "('References moved to Z:\\\\Rachel\\\\PrL-NAc-SP3\\\\211215_PrL-NAc-SP3_FOV2_RST-CUE-DRUG\\\\extras', 'PrL-NAc-SP3_HER_RST-CUE-DRUG_FOV7_post-011')\n",
      "('.envs moved to Z:\\\\Rachel\\\\PrL-NAc-SP3\\\\211215_PrL-NAc-SP3_FOV2_RST-CUE-DRUG\\\\extras', 'PrL-NAc-SP3_HER_RST-CUE-DRUG_FOV7_post-011')\n",
      "('.xmls moved to Z:\\\\Rachel\\\\PrL-NAc-SP3\\\\211215_PrL-NAc-SP3_FOV2_RST-CUE-DRUG\\\\extras', 'PrL-NAc-SP3_HER_RST-CUE-DRUG_FOV7_post-011')\n"
     ]
    }
   ],
   "source": [
    "#Find, move, and rename \"References\" folders, .env and .xml files\n",
    "for folder in next(os.walk(parent_dir))[1]:\n",
    "    if \"extras\" not in folder:\n",
    "        if next(os.walk(os.path.join(parent_dir,folder)))[1] == ['References']:\n",
    "            ref_path = os.path.join(parent_dir,folder,'References')\n",
    "            shutil.move(ref_path, os.path.join(extras_path,folder))\n",
    "            print(\"References moved to %s\" %extras_path, folder)\n",
    "        for datafile in next(os.walk(os.path.join(parent_dir,folder)))[2]:\n",
    "            if \".env\" in datafile:\n",
    "                env_path = os.path.join(parent_dir,folder,datafile)\n",
    "                shutil.move(env_path, os.path.join(extras_path,folder,datafile))\n",
    "                print(\".envs moved to %s\" %extras_path, folder)\n",
    "            elif \".xml\" in datafile:\n",
    "                xml_path = os.path.join(parent_dir,folder,datafile)\n",
    "                shutil.move(xml_path, os.path.join(extras_path,folder,datafile))\n",
    "                print(\".xmls moved to %s\" %extras_path, folder)"
   ]
  },
  {
   "cell_type": "code",
   "execution_count": 4,
   "metadata": {
    "scrolled": true
   },
   "outputs": [],
   "source": [
    "#Remove .ome from TIF filenames\n",
    "for folder in next(os.walk(parent_dir))[1]:\n",
    "    for datafile in next(os.walk(os.path.join(parent_dir,folder)))[2]:\n",
    "        if \"ome\" in datafile:\n",
    "            tif_path = os.path.join(parent_dir,folder,datafile)\n",
    "            tif_path,ext = os.path.splitext(tif_path)\n",
    "            new_tif_path = tif_path[:-4]\n",
    "            tif_path = os.path.join(tif_path+ext)\n",
    "            new_tif_path = os.path.join(new_tif_path+ext)\n",
    "            os.rename(tif_path, new_tif_path)"
   ]
  },
  {
   "cell_type": "code",
   "execution_count": null,
   "metadata": {},
   "outputs": [],
   "source": []
  },
  {
   "cell_type": "code",
   "execution_count": null,
   "metadata": {},
   "outputs": [],
   "source": []
  },
  {
   "cell_type": "code",
   "execution_count": null,
   "metadata": {},
   "outputs": [],
   "source": []
  }
 ],
 "metadata": {
  "kernelspec": {
   "display_name": "Python 2",
   "language": "python",
   "name": "python2"
  },
  "language_info": {
   "codemirror_mode": {
    "name": "ipython",
    "version": 2
   },
   "file_extension": ".py",
   "mimetype": "text/x-python",
   "name": "python",
   "nbconvert_exporter": "python",
   "pygments_lexer": "ipython2",
   "version": "2.7.16"
  }
 },
 "nbformat": 4,
 "nbformat_minor": 2
}
