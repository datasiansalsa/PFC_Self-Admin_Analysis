{
 "cells": [
  {
   "cell_type": "code",
   "execution_count": 1,
   "metadata": {},
   "outputs": [],
   "source": [
    "#Written by RIG on 12/9/19\n",
    "#Picked back up on 1/5/20\n",
    "\n",
    "#This script automates pre-processing of 2p imaging data files/folders\n",
    "\n",
    "#Import the necessary modules\n",
    "import os, sys\n",
    "import shutil\n",
    "import glob\n",
    "#import tempfile"
   ]
  },
  {
   "cell_type": "code",
   "execution_count": 2,
   "metadata": {},
   "outputs": [
    {
     "name": "stdout",
     "output_type": "stream",
     "text": [
      "The current working directory is E:\\Beth-Server\\Self-Administration\\PFC GCaMP6s SA\\LCDD-PGa\\LCDD-PGa3\\210624_LCDD-PGa3_FOV1_HI_D1\n",
      "Extras folder created in E:\\Beth-Server\\Self-Administration\\PFC GCaMP6s SA\\LCDD-PGa\\LCDD-PGa3\\210624_LCDD-PGa3_FOV1_HI_D1\n"
     ]
    }
   ],
   "source": [
    "#######Define parent directory########\n",
    "parent_dir = r'E:\\Beth-Server\\Self-Administration\\PFC GCaMP6s SA\\LCDD-PGa\\LCDD-PGa3\\210624_LCDD-PGa3_FOV1_HI_D1'\n",
    "os.chdir(parent_dir)\n",
    "######################################\n",
    "\n",
    "print (\"The current working directory is %s\" % parent_dir)\n",
    "\n",
    "#Make extras folders\n",
    "folders = next(os.walk(parent_dir))[1]\n",
    "extras_path = os.path.join(parent_dir,\"extras\")\n",
    "if \"extras\" not in folders:\n",
    "    os.mkdir(extras_path)\n",
    "    for i in folders:\n",
    "        os.mkdir(os.path.join(extras_path,i))\n",
    "    print (\"Extras folder created in %s\" % parent_dir)\n",
    "else:\n",
    "    print (\"Extras folder already in %s\" % parent_dir)"
   ]
  },
  {
   "cell_type": "code",
   "execution_count": 3,
   "metadata": {
    "scrolled": false
   },
   "outputs": [
    {
     "name": "stdout",
     "output_type": "stream",
     "text": [
      "References moved to E:\\Beth-Server\\Self-Administration\\PFC GCaMP6s SA\\LCDD-PGa\\LCDD-PGa3\\210624_LCDD-PGa3_FOV1_HI_D1\\extras SingleImage-06242021-0900-000\n",
      ".envs moved to E:\\Beth-Server\\Self-Administration\\PFC GCaMP6s SA\\LCDD-PGa\\LCDD-PGa3\\210624_LCDD-PGa3_FOV1_HI_D1\\extras SingleImage-06242021-0900-000\n",
      ".xmls moved to E:\\Beth-Server\\Self-Administration\\PFC GCaMP6s SA\\LCDD-PGa\\LCDD-PGa3\\210624_LCDD-PGa3_FOV1_HI_D1\\extras SingleImage-06242021-0900-000\n",
      "References moved to E:\\Beth-Server\\Self-Administration\\PFC GCaMP6s SA\\LCDD-PGa\\LCDD-PGa3\\210624_LCDD-PGa3_FOV1_HI_D1\\extras T1_LCDD-PGa3_2P-HER_FOV1_HI_D1_baseline-000\n",
      ".envs moved to E:\\Beth-Server\\Self-Administration\\PFC GCaMP6s SA\\LCDD-PGa\\LCDD-PGa3\\210624_LCDD-PGa3_FOV1_HI_D1\\extras T1_LCDD-PGa3_2P-HER_FOV1_HI_D1_baseline-000\n",
      ".xmls moved to E:\\Beth-Server\\Self-Administration\\PFC GCaMP6s SA\\LCDD-PGa\\LCDD-PGa3\\210624_LCDD-PGa3_FOV1_HI_D1\\extras T1_LCDD-PGa3_2P-HER_FOV1_HI_D1_baseline-000\n",
      "References moved to E:\\Beth-Server\\Self-Administration\\PFC GCaMP6s SA\\LCDD-PGa\\LCDD-PGa3\\210624_LCDD-PGa3_FOV1_HI_D1\\extras T2_LCDD-PGa3_2P-HER_FOV1_HI_D1_behavior-001\n",
      ".envs moved to E:\\Beth-Server\\Self-Administration\\PFC GCaMP6s SA\\LCDD-PGa\\LCDD-PGa3\\210624_LCDD-PGa3_FOV1_HI_D1\\extras T2_LCDD-PGa3_2P-HER_FOV1_HI_D1_behavior-001\n",
      ".xmls moved to E:\\Beth-Server\\Self-Administration\\PFC GCaMP6s SA\\LCDD-PGa\\LCDD-PGa3\\210624_LCDD-PGa3_FOV1_HI_D1\\extras T2_LCDD-PGa3_2P-HER_FOV1_HI_D1_behavior-001\n",
      "References moved to E:\\Beth-Server\\Self-Administration\\PFC GCaMP6s SA\\LCDD-PGa\\LCDD-PGa3\\210624_LCDD-PGa3_FOV1_HI_D1\\extras T3_LCDD-PGa3_2P-HER_FOV1_HI_D1_post-002\n",
      ".envs moved to E:\\Beth-Server\\Self-Administration\\PFC GCaMP6s SA\\LCDD-PGa\\LCDD-PGa3\\210624_LCDD-PGa3_FOV1_HI_D1\\extras T3_LCDD-PGa3_2P-HER_FOV1_HI_D1_post-002\n",
      ".xmls moved to E:\\Beth-Server\\Self-Administration\\PFC GCaMP6s SA\\LCDD-PGa\\LCDD-PGa3\\210624_LCDD-PGa3_FOV1_HI_D1\\extras T3_LCDD-PGa3_2P-HER_FOV1_HI_D1_post-002\n"
     ]
    }
   ],
   "source": [
    "#Find, move, and rename \"References\" folders, .env and .xml files\n",
    "for folder in next(os.walk(parent_dir))[1]:\n",
    "    if \"extras\" not in folder:\n",
    "        if next(os.walk(os.path.join(parent_dir,folder)))[1] == ['References']:\n",
    "            ref_path = os.path.join(parent_dir,folder,'References')\n",
    "            shutil.move(ref_path, os.path.join(extras_path,folder))\n",
    "            print(\"References moved to %s\" %extras_path, folder)\n",
    "        for datafile in next(os.walk(os.path.join(parent_dir,folder)))[2]:\n",
    "            if \".env\" in datafile:\n",
    "                env_path = os.path.join(parent_dir,folder,datafile)\n",
    "                shutil.move(env_path, os.path.join(extras_path,folder,datafile))\n",
    "                print(\".envs moved to %s\" %extras_path, folder)\n",
    "            elif \".xml\" in datafile:\n",
    "                xml_path = os.path.join(parent_dir,folder,datafile)\n",
    "                shutil.move(xml_path, os.path.join(extras_path,folder,datafile))\n",
    "                print(\".xmls moved to %s\" %extras_path, folder)"
   ]
  },
  {
   "cell_type": "code",
   "execution_count": 4,
   "metadata": {
    "scrolled": true
   },
   "outputs": [],
   "source": [
    "#Remove .ome from TIF filenames\n",
    "for folder in next(os.walk(parent_dir))[1]:\n",
    "    for datafile in next(os.walk(os.path.join(parent_dir,folder)))[2]:\n",
    "        if \"ome\" in datafile:\n",
    "            tif_path = os.path.join(parent_dir,folder,datafile)\n",
    "            tif_path,ext = os.path.splitext(tif_path)\n",
    "            new_tif_path = tif_path[:-4]\n",
    "            tif_path = os.path.join(tif_path+ext)\n",
    "            new_tif_path = os.path.join(new_tif_path+ext)\n",
    "            os.rename(tif_path, new_tif_path)"
   ]
  },
  {
   "cell_type": "code",
   "execution_count": null,
   "metadata": {},
   "outputs": [],
   "source": []
  },
  {
   "cell_type": "code",
   "execution_count": null,
   "metadata": {},
   "outputs": [],
   "source": []
  },
  {
   "cell_type": "code",
   "execution_count": null,
   "metadata": {},
   "outputs": [],
   "source": []
  }
 ],
 "metadata": {
  "kernelspec": {
   "display_name": "Python 3 (ipykernel)",
   "language": "python",
   "name": "python3"
  },
  "language_info": {
   "codemirror_mode": {
    "name": "ipython",
    "version": 3
   },
   "file_extension": ".py",
   "mimetype": "text/x-python",
   "name": "python",
   "nbconvert_exporter": "python",
   "pygments_lexer": "ipython3",
   "version": "3.9.7"
  }
 },
 "nbformat": 4,
 "nbformat_minor": 2
}
