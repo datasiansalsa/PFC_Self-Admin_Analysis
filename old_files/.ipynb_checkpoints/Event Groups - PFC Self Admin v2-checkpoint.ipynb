{
 "cells": [
  {
   "cell_type": "code",
   "execution_count": 128,
   "metadata": {},
   "outputs": [],
   "source": [
    "import numpy as np\n",
    "import matplotlib.pyplot as plt\n",
    "%matplotlib inline\n",
    "import seaborn as sns\n",
    "import os\n",
    "import subprocess\n",
    "import time\n",
    "import pandas\n",
    "import pickle\n",
    "import math\n",
    "from sklearn.decomposition import PCA\n",
    "from sklearn.preprocessing import StandardScaler\n",
    "from sklearn.svm import SVC, SVR, LinearSVC\n",
    "from sklearn.metrics import accuracy_score, silhouette_score, adjusted_rand_score, silhouette_samples\n",
    "from sklearn.cluster import AgglomerativeClustering, SpectralClustering, KMeans\n",
    "from sklearn.model_selection import KFold, LeaveOneOut, train_test_split\n",
    "from sklearn.model_selection import GridSearchCV\n",
    "from sklearn.kernel_ridge import KernelRidge\n",
    "from sklearn import linear_model\n",
    "from sklearn.manifold import TSNE\n",
    "import scipy.stats as stats\n",
    "from scipy.stats import median_test\n",
    "import scipy.io as sio\n",
    "from sklearn.metrics import roc_auc_score as auROC\n",
    "import statsmodels.api as sm\n",
    "import statsmodels.formula.api as smf\n",
    "from patsy import (ModelDesc, EvalEnvironment, Term, EvalFactor, LookupFactor, dmatrices, INTERCEPT)\n",
    "from statsmodels.distributions.empirical_distribution import ECDF\n",
    "import matplotlib.cm as cm\n",
    "import matplotlib.colors as colors\n",
    "import matplotlib.colorbar as colorbar\n",
    "import sys\n",
    "import re\n"
   ]
  },
  {
   "cell_type": "code",
   "execution_count": 129,
   "metadata": {},
   "outputs": [],
   "source": [
    "def calculate_auROC(x,y,offset_to_zero=True):\n",
    "    U, p = stats.mannwhitneyu(x,y)\n",
    "    labels = np.concatenate((np.ones(x.shape), np.zeros(y.shape)))\n",
    "    data = np.concatenate((x,y))\n",
    "    A = auROC(labels, data)\n",
    "    if offset_to_zero:\n",
    "        return (A-0.5, p)\n",
    "    else:\n",
    "        return (A, p)"
   ]
  },
  {
   "cell_type": "code",
   "execution_count": 130,
   "metadata": {
    "scrolled": false
   },
   "outputs": [
    {
     "name": "stdout",
     "output_type": "stream",
     "text": [
      "[[  5.20960948  35.88267863  23.26031165 ...  22.63351853 126.6154542\n",
      "   63.67100331]\n",
      " [  3.8720828   37.32437917  23.0317749  ... 135.6763124   66.59691516\n",
      "   26.60028302]\n",
      " [ 55.55243265  32.88992667   3.43921626 ...  40.08441873  48.84109126\n",
      "   66.62283388]\n",
      " ...\n",
      " [         nan          nan          nan ...          nan          nan\n",
      "           nan]\n",
      " [         nan          nan          nan ...          nan          nan\n",
      "           nan]\n",
      " [         nan          nan          nan ...          nan          nan\n",
      "           nan]]\n"
     ]
    }
   ],
   "source": [
    "### LOAD DATA FROM CSV FILE IF RUNNING FROM JIM'S MACBOOK PRO\n",
    "\n",
    "basedir=r\"/Users/jamesotis/Dropbox/2P Imaging Projects/Beth/PFC Self Admin/Results/EventData/10min_1.25amp_nofilt/\"\n",
    "numevents_10min = np.genfromtxt(basedir+\"eventcount/SUMMARY_CSV_10min_1.25_Num_events_dur_filt.csv\", dtype= int, delimiter = ',')\n",
    "basedir=r\"/Users/jamesotis/Dropbox/2P Imaging Projects/Beth/PFC Self Admin/Results/EventData/10min_1.25amp_nofilt/\"\n",
    "AUC_10min = np.genfromtxt(basedir+\"AUC/SUMMARY_CSV_10min_1.25_AUC_dur_filt.csv\", dtype= float, delimiter = ',')\n",
    "print (AUC_10min)"
   ]
  },
  {
   "cell_type": "code",
   "execution_count": 131,
   "metadata": {
    "scrolled": true
   },
   "outputs": [
    {
     "data": {
      "image/png": "[encoded data removed]",
      "text/plain": [
       "<Figure size 432x288 with 1 Axes>"
      ]
     },
     "metadata": {
      "needs_background": "light"
     },
     "output_type": "display_data"
    }
   ],
   "source": [
    "###load data arrays from CSV file\n",
    "###based on 7 columns from 'earlyacq, lateacq, earlyext, lateext, cuerein, drugrein, tmtrein'\n",
    "\n",
    "temp1=[]\n",
    "temp2=[]\n",
    "temp3=[]\n",
    "temp4=[]\n",
    "temp5=[]\n",
    "temp6=[]\n",
    "temp7=[]\n",
    "\n",
    "numevents_10min_nans = np.nan*np.ones((numevents_10min.shape[0], numevents_10min.shape[1]))\n",
    "\n",
    "for i in range (numevents_10min.shape[1]):\n",
    "    for j in range  (numevents_10min.shape[0]):\n",
    "        if numevents_10min[j,i]!=-1:\n",
    "            if i == 0:\n",
    "                temp1 = np.append(temp1,numevents_10min[j,i])\n",
    "            if i == 1:\n",
    "                temp2 = np.append(temp2,numevents_10min[j,i])\n",
    "            if i == 2:\n",
    "                temp3 = np.append(temp3,numevents_10min[j,i])\n",
    "            if i == 3:\n",
    "                temp4 = np.append(temp4,numevents_10min[j,i])\n",
    "            if i == 4:\n",
    "                temp5 = np.append(temp5,numevents_10min[j,i])\n",
    "            if i == 5:\n",
    "                temp6 = np.append(temp6,numevents_10min[j,i])\n",
    "            if i == 6:\n",
    "                temp7 = np.append(temp7,numevents_10min[j,i])\n",
    "            \n",
    "            numevents_10min_nans[j,i] = numevents_10min[j,i]\n",
    "                \n",
    "earlyacq=temp1\n",
    "lateacq=temp2\n",
    "earlyext=temp3\n",
    "lateext=temp4\n",
    "cuerein=temp5\n",
    "drugrein=temp6\n",
    "tmtrein=temp7\n",
    "\n",
    "\n",
    "stderr_earlyacq = stats.sem(earlyacq, nan_policy='omit')\n",
    "stderr_lateacq = stats.sem(lateacq, nan_policy='omit')\n",
    "stderr_earlyext = stats.sem(earlyext, nan_policy='omit')\n",
    "stderr_lateext = stats.sem(lateext, nan_policy='omit')\n",
    "stderr_cuerein = stats.sem(cuerein, nan_policy='omit')\n",
    "stderr_drugrein = stats.sem(drugrein, nan_policy='omit')\n",
    "stderr_tmtrein = stats.sem(tmtrein, nan_policy='omit')\n",
    "stderr = np.array([stderr_earlyacq, stderr_lateacq, stderr_earlyext, stderr_lateext, stderr_cuerein, stderr_drugrein, stderr_tmtrein])\n",
    "\n",
    "medians = np.nanmedian(numevents_10min_nans, axis=0)   \n",
    "\n",
    "fig, axs = plt.subplots(1)\n",
    "axs.set(ylim=(0, 100),xlabel=('earlyacq', 'lateacq', 'earlyext', 'lateext', 'cuerein', 'drugrein', 'tmtrein'), ylabel= ('eventcount/10min'))\n",
    "sns.barplot(data = numevents_10min_nans, estimator= np.median, ax=axs, ci=0, yerr=stderr)\n",
    "sns.lineplot(data=medians, dashes=False)\n",
    "fig.savefig(os.path.join(basedir, 'Eventcount10min.PDF'), format='PDF')\n",
    "fig.tight_layout()\n"
   ]
  },
  {
   "cell_type": "code",
   "execution_count": 132,
   "metadata": {},
   "outputs": [
    {
     "name": "stdout",
     "output_type": "stream",
     "text": [
      "(29.011228232838114, 6.0539998032113744e-05) Overall moods median test\n",
      "(0.07399153697058092, 5.521673225235659e-05) earlyacq vs lateacq\n",
      "(0.06530976009249445, 0.0003254701464725641) earlyacq vs earlyext\n",
      "(0.04438243507174788, 0.007961529838057277) earlyacq vs lateext\n",
      "(-0.024258692802297255, 0.09578883161528279) lateext vs cuerein\n",
      "(-0.0402173528494193, 0.010049883702478278) lateext vs drugrein\n",
      "(-0.058518331297302606, 0.0004756698010037029) lateext vs tmtrein\n"
     ]
    }
   ],
   "source": [
    "###MOODS MEDIAN TEST FOR NON-NORMAL DISTRIBUTION DATSETS\n",
    "stat, p, med, tbl = median_test(earlyacq, lateacq, earlyext,lateext,cuerein,drugrein,tmtrein)\n",
    "print ((stat, p), 'Overall moods median test')\n",
    "\n",
    "###auROCs for direct comparisons\n",
    "print(calculate_auROC(earlyacq,lateacq),'earlyacq vs lateacq')\n",
    "print (calculate_auROC(earlyacq,earlyext),'earlyacq vs earlyext')\n",
    "print(calculate_auROC(earlyacq,lateext),'earlyacq vs lateext')\n",
    "print (calculate_auROC(lateext,cuerein),'lateext vs cuerein')\n",
    "print (calculate_auROC(lateext,drugrein),'lateext vs drugrein')\n",
    "print (calculate_auROC(lateext,tmtrein),'lateext vs tmtrein')"
   ]
  },
  {
   "cell_type": "code",
   "execution_count": 133,
   "metadata": {},
   "outputs": [
    {
     "name": "stdout",
     "output_type": "stream",
     "text": [
      "KruskalResult(statistic=14.950364431306003, pvalue=0.00011037674191614241) earlyacq vs lateacq\n",
      "KruskalResult(statistic=11.62520621053663, pvalue=0.000650640267248371) earlyacq vs earlyext\n",
      "KruskalResult(statistic=5.8118791262570895, pvalue=0.01591827603323776) earlyacq vs lateext\n",
      "KruskalResult(statistic=1.7057357995252884, pvalue=0.19153956473369937) lateext vs cuerein\n",
      "KruskalResult(statistic=5.403640688057844, pvalue=0.02009479177334094) lateext vs drugrein\n",
      "KruskalResult(statistic=10.92060931547835, pvalue=0.0009510032540091941) lateext vs tmtrein\n"
     ]
    }
   ],
   "source": [
    "print (stats.kruskal(earlyacq,lateacq, nan_policy='omit'), 'earlyacq vs lateacq')\n",
    "print (stats.kruskal(earlyacq,earlyext, nan_policy='omit'), 'earlyacq vs earlyext')\n",
    "print (stats.kruskal(earlyacq,lateext, nan_policy='omit'), 'earlyacq vs lateext')\n",
    "print (stats.kruskal(lateext,cuerein, nan_policy='omit'), 'lateext vs cuerein')\n",
    "print (stats.kruskal(lateext,drugrein, nan_policy='omit'), 'lateext vs drugrein')\n",
    "print (stats.kruskal(lateext,tmtrein, nan_policy='omit'), 'lateext vs tmtrein')"
   ]
  },
  {
   "cell_type": "code",
   "execution_count": 134,
   "metadata": {},
   "outputs": [
    {
     "data": {
      "image/png": "[encoded data removed]",
      "text/plain": [
       "<Figure size 432x288 with 1 Axes>"
      ]
     },
     "metadata": {
      "needs_background": "light"
     },
     "output_type": "display_data"
    }
   ],
   "source": [
    "###load data arrays from CSV file\n",
    "###based on 7 columns from 'earlyacq, lateacq, earlyext, lateext, cuerein, drugrein, tmtrein'\n",
    "\n",
    "temp1=[]\n",
    "temp2=[]\n",
    "temp3=[]\n",
    "temp4=[]\n",
    "temp5=[]\n",
    "temp6=[]\n",
    "temp7=[]\n",
    "\n",
    "AUC_10min_nans = np.nan*np.ones((AUC_10min.shape[0], AUC_10min.shape[1]))\n",
    "\n",
    "for i in range (AUC_10min.shape[1]):\n",
    "    for j in range  (AUC_10min.shape[0]):\n",
    "        if AUC_10min[j,i]!=-1:\n",
    "            if i == 0:\n",
    "                temp1 = np.append(temp1,AUC_10min[j,i])\n",
    "            if i == 1:\n",
    "                temp2 = np.append(temp2,AUC_10min[j,i])\n",
    "            if i == 2:\n",
    "                temp3 = np.append(temp3,AUC_10min[j,i])\n",
    "            if i == 3:\n",
    "                temp4 = np.append(temp4,AUC_10min[j,i])\n",
    "            if i == 4:\n",
    "                temp5 = np.append(temp5,AUC_10min[j,i])\n",
    "            if i == 5:\n",
    "                temp6 = np.append(temp6,AUC_10min[j,i])\n",
    "            if i == 6:\n",
    "                temp7 = np.append(temp7,AUC_10min[j,i])\n",
    "            \n",
    "            AUC_10min_nans[j,i] = AUC_10min[j,i]\n",
    "                \n",
    "earlyacq=temp1\n",
    "lateacq=temp2\n",
    "earlyext=temp3\n",
    "lateext=temp4\n",
    "cuerein=temp5\n",
    "drugrein=temp6\n",
    "tmtrein=temp7\n",
    "\n",
    "\n",
    "stderr_earlyacq = stats.sem(earlyacq, nan_policy='omit')\n",
    "stderr_lateacq = stats.sem(lateacq, nan_policy='omit')\n",
    "stderr_earlyext = stats.sem(earlyext, nan_policy='omit')\n",
    "stderr_lateext = stats.sem(lateext, nan_policy='omit')\n",
    "stderr_cuerein = stats.sem(cuerein, nan_policy='omit')\n",
    "stderr_drugrein = stats.sem(drugrein, nan_policy='omit')\n",
    "stderr_tmtrein = stats.sem(tmtrein, nan_policy='omit')\n",
    "stderr = np.array([stderr_earlyacq, stderr_lateacq, stderr_earlyext, stderr_lateext, stderr_cuerein, stderr_drugrein, stderr_tmtrein])\n",
    "\n",
    "medians = np.nanmedian(AUC_10min_nans, axis=0) \n",
    "\n",
    "fig, axs = plt.subplots(1)\n",
    "axs.set(ylim=(5, 15),xlabel=('earlyacq', 'lateacq', 'earlyext', 'lateext', 'cuerein', 'drugrein', 'tmtrein'), ylabel= ('Median AUC/neuron'))\n",
    "sns.barplot(data = AUC_10min_nans, estimator= np.median, ax=axs, ci=0, yerr=stderr)\n",
    "sns.lineplot(data=medians, dashes=False)\n",
    "fig.savefig(os.path.join(basedir, 'AUC10min.PDF'), format='PDF')\n",
    "fig.tight_layout()\n",
    "\n"
   ]
  },
  {
   "cell_type": "code",
   "execution_count": 135,
   "metadata": {},
   "outputs": [
    {
     "name": "stdout",
     "output_type": "stream",
     "text": [
      "52.907246487364745 1.2248490669269576e-09\n"
     ]
    }
   ],
   "source": [
    "###MOODS MEDIAN TEST FOR NON-NORMAL DISTRIBUTION DATSETS\n",
    "stat, p, med, tbl = median_test(earlyacq, lateacq, earlyext,lateext,cuerein,drugrein,tmtrein, nan_policy='omit')\n",
    "print (stat, p)"
   ]
  },
  {
   "cell_type": "code",
   "execution_count": 136,
   "metadata": {},
   "outputs": [
    {
     "name": "stdout",
     "output_type": "stream",
     "text": [
      "KruskalResult(statistic=11.602904193116046, pvalue=0.0006584890971613026) earlyacq vs lateacq\n",
      "KruskalResult(statistic=1.5993906328094454, pvalue=0.2059895883211062) earlyacq vs earlyext\n",
      "KruskalResult(statistic=18.03840878861274, pvalue=2.164927228699986e-05) earlyacq vs lateext\n",
      "KruskalResult(statistic=21.27718400271806, pvalue=3.974338989527097e-06) lateext vs cuerein\n",
      "KruskalResult(statistic=33.5777970029003, pvalue=6.846984996593825e-09) lateext vs drugrein\n",
      "KruskalResult(statistic=28.37751323062912, pvalue=9.981803547980375e-08) lateext vs tmtrein\n"
     ]
    }
   ],
   "source": [
    "###Kruskal median test for abnormal distributions\n",
    "\n",
    "print (stats.kruskal(earlyacq,lateacq, nan_policy='omit'), 'earlyacq vs lateacq')\n",
    "print (stats.kruskal(earlyacq,earlyext, nan_policy='omit'), 'earlyacq vs earlyext')\n",
    "print (stats.kruskal(earlyacq,lateext, nan_policy='omit'), 'earlyacq vs lateext')\n",
    "print (stats.kruskal(lateext,cuerein, nan_policy='omit'), 'lateext vs cuerein')\n",
    "print (stats.kruskal(lateext,drugrein, nan_policy='omit'), 'lateext vs drugrein')\n",
    "print (stats.kruskal(lateext,tmtrein, nan_policy='omit'), 'lateext vs tmtrein')\n",
    "\n"
   ]
  },
  {
   "cell_type": "code",
   "execution_count": null,
   "metadata": {},
   "outputs": [],
   "source": []
  }
 ],
 "metadata": {
  "kernelspec": {
   "display_name": "Python 3",
   "language": "python",
   "name": "python3"
  },
  "language_info": {
   "codemirror_mode": {
    "name": "ipython",
    "version": 3
   },
   "file_extension": ".py",
   "mimetype": "text/x-python",
   "name": "python",
   "nbconvert_exporter": "python",
   "pygments_lexer": "ipython3",
   "version": "3.7.6"
  }
 },
 "nbformat": 4,
 "nbformat_minor": 2
}
