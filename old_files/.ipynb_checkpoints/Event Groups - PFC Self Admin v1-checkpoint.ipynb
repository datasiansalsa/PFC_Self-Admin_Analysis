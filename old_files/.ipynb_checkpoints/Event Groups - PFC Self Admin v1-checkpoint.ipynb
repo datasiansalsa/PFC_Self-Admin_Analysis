{
 "cells": [
  {
   "cell_type": "code",
   "execution_count": 56,
   "metadata": {},
   "outputs": [],
   "source": [
    "import numpy as np\n",
    "import matplotlib.pyplot as plt\n",
    "%matplotlib inline\n",
    "import seaborn as sns\n",
    "import os\n",
    "import subprocess\n",
    "import time\n",
    "import pandas\n",
    "import pickle\n",
    "import math\n",
    "from sklearn.decomposition import PCA\n",
    "from sklearn.preprocessing import StandardScaler\n",
    "from sklearn.svm import SVC, SVR, LinearSVC\n",
    "from sklearn.metrics import accuracy_score, silhouette_score, adjusted_rand_score, silhouette_samples\n",
    "from sklearn.cluster import AgglomerativeClustering, SpectralClustering, KMeans\n",
    "from sklearn.model_selection import KFold, LeaveOneOut, train_test_split\n",
    "from sklearn.model_selection import GridSearchCV\n",
    "from sklearn.kernel_ridge import KernelRidge\n",
    "from sklearn import linear_model\n",
    "from sklearn.manifold import TSNE\n",
    "import scipy.stats as stats\n",
    "import scipy.io as sio\n",
    "from sklearn.metrics import roc_auc_score as auROC\n",
    "import statsmodels.api as sm\n",
    "import statsmodels.formula.api as smf\n",
    "from patsy import (ModelDesc, EvalEnvironment, Term, EvalFactor, LookupFactor, dmatrices, INTERCEPT)\n",
    "from statsmodels.distributions.empirical_distribution import ECDF\n",
    "import matplotlib.cm as cm\n",
    "import matplotlib.colors as colors\n",
    "import matplotlib.colorbar as colorbar\n",
    "import sys\n",
    "import re\n"
   ]
  },
  {
   "cell_type": "code",
   "execution_count": 57,
   "metadata": {},
   "outputs": [],
   "source": [
    "def calculate_auROC(x,y,offset_to_zero=True):\n",
    "    U, p = stats.mannwhitneyu(x,y)\n",
    "    labels = np.concatenate((np.ones(x.shape), np.zeros(y.shape)))\n",
    "    data = np.concatenate((x,y))\n",
    "    A = auROC(labels, data)\n",
    "    if offset_to_zero:\n",
    "        return (A-0.5, p)\n",
    "    else:\n",
    "        return (A, p)\n",
    "    "
   ]
  },
  {
   "cell_type": "code",
   "execution_count": 118,
   "metadata": {
    "scrolled": false
   },
   "outputs": [
    {
     "name": "stdout",
     "output_type": "stream",
     "text": [
      "(579, 7)\n"
     ]
    }
   ],
   "source": [
    "### LOAD DATA FROM CSV FILE IF RUNNING FROM JIM'S MACBOOK PRO\n",
    "\n",
    "numevents_10min = np.genfromtxt(r\"/Users/jamesotis/Dropbox/2P Imaging Projects/Beth/PFC Self Admin/Results/EventData/10min_eventcount_withfilter/SUMMARY_CSV_10min_1.5_Num_events_dur_filt.csv\", dtype= int, delimiter = ',')\n",
    "\n",
    "print (numevents_10min.shape)\n"
   ]
  },
  {
   "cell_type": "code",
   "execution_count": 265,
   "metadata": {},
   "outputs": [
    {
     "data": {
      "text/plain": [
       "<matplotlib.axes._subplots.AxesSubplot at 0x7fc670e70110>"
      ]
     },
     "execution_count": 265,
     "metadata": {},
     "output_type": "execute_result"
    },
    {
     "data": {
      "image/png": "[encoded data removed]",
      "text/plain": [
       "<Figure size 432x288 with 1 Axes>"
      ]
     },
     "metadata": {},
     "output_type": "display_data"
    }
   ],
   "source": [
    "###load data arrays from CSV file\n",
    "###based on 7 columns from 'earlyacq, lateacq, earlyext, lateext, cuerein, drugrein, tmtrein'\n",
    "\n",
    "temp1=[]\n",
    "temp2=[]\n",
    "temp3=[]\n",
    "temp4=[]\n",
    "temp5=[]\n",
    "temp6=[]\n",
    "temp7=[]\n",
    "\n",
    "numevents_10min_nans = np.nan*np.ones((numevents_10min.shape[0], numevents_10min.shape[1]))\n",
    "\n",
    "for i in range (numevents_10min.shape[1]):\n",
    "    for j in range  (numevents_10min.shape[0]):\n",
    "        if numevents_10min[j,i]!=-1:\n",
    "            if i == 0:\n",
    "                temp1 = np.append(temp1,numevents_10min[j,i])\n",
    "            if i == 1:\n",
    "                temp2 = np.append(temp2,numevents_10min[j,i])\n",
    "            if i == 2:\n",
    "                temp3 = np.append(temp3,numevents_10min[j,i])\n",
    "            if i == 3:\n",
    "                temp4 = np.append(temp4,numevents_10min[j,i])\n",
    "            if i == 4:\n",
    "                temp5 = np.append(temp5,numevents_10min[j,i])\n",
    "            if i == 5:\n",
    "                temp6 = np.append(temp6,numevents_10min[j,i])\n",
    "            if i == 6:\n",
    "                temp7 = np.append(temp7,numevents_10min[j,i])\n",
    "            \n",
    "            numevents_10min_nans[j,i] = numevents_10min[j,i]\n",
    "                \n",
    "earlyacq=temp1\n",
    "lateacq=temp2\n",
    "earlyext=temp3\n",
    "lateext=temp4\n",
    "cuerein=temp5\n",
    "drugrein=temp6\n",
    "tmtrein=temp7\n",
    "\n",
    "stderr_earlyacq = stats.sem(earlyacq)\n",
    "stderr_lateacq = stats.sem(lateacq)\n",
    "stderr_earlyext = stats.sem(earlyext)\n",
    "stderr_lateext = stats.sem(lateext)\n",
    "stderr_cuerein = stats.sem(cuerein)\n",
    "stderr_drugrein = stats.sem(drugrein)\n",
    "stderr_tmtrein = stats.sem(tmtrein)\n",
    "stderr = np.array([stderr_earlyacq, stderr_lateacq, stderr_earlyext, stderr_lateext, stderr_cuerein, stderr_drugrein, stderr_tmtrein])\n",
    "\n",
    "medians = np.nanmedian(numevents_10min_nans, axis=0)   \n",
    "\n",
    "fig, axs = plt.subplots(1)\n",
    "sns.barplot(data = numevents_10min_nans, estimator= np.median, ax=axs, ci=0, yerr=stderr)\n",
    "sns.lineplot(data=medians, dashes=False)"
   ]
  }
 ],
 "metadata": {
  "kernelspec": {
   "display_name": "Python 3",
   "language": "python",
   "name": "python3"
  },
  "language_info": {
   "codemirror_mode": {
    "name": "ipython",
    "version": 3
   },
   "file_extension": ".py",
   "mimetype": "text/x-python",
   "name": "python",
   "nbconvert_exporter": "python",
   "pygments_lexer": "ipython3",
   "version": "3.7.6"
  }
 },
 "nbformat": 4,
 "nbformat_minor": 2
}
